{
  "nbformat": 4,
  "nbformat_minor": 0,
  "metadata": {
    "colab": {
      "name": "LC equivalence.ipynb",
      "provenance": [],
      "collapsed_sections": [],
      "authorship_tag": "ABX9TyOjx8VyCybPYymOUPOYuu7L",
      "include_colab_link": true
    },
    "kernelspec": {
      "name": "python3",
      "display_name": "Python 3"
    },
    "language_info": {
      "name": "python"
    }
  },
  "cells": [
    {
      "cell_type": "markdown",
      "metadata": {
        "id": "view-in-github",
        "colab_type": "text"
      },
      "source": [
        "<a href=\"https://colab.research.google.com/github/Sobhan-Gh/Graph-state-functions/blob/main/LC_equivalence.ipynb\" target=\"_parent\"><img src=\"https://colab.research.google.com/assets/colab-badge.svg\" alt=\"Open In Colab\"/></a>"
      ]
    },
    {
      "cell_type": "code",
      "execution_count": 156,
      "metadata": {
        "id": "vFKTvbakULXd"
      },
      "outputs": [],
      "source": [
        "import numpy as np\n",
        "import networkx as nx\n",
        "import random"
      ]
    },
    {
      "cell_type": "code",
      "source": [
        "n=int(7)\n",
        "row=0\n",
        "G1, G2 = nx.fast_gnp_random_graph(n,0.65), nx.fast_gnp_random_graph(n,0.65)\n",
        "if nx.is_connected(G1) and nx.is_connected(G2):\n",
        "    z_1=nx.to_numpy_array(G1).astype(int)\n",
        "    z_2=nx.to_numpy_array(G2).astype(int)\n",
        "else:\n",
        "    raise ValueError('graphs are not connected')\n",
        "\n",
        "coeff_matrix=np.zeros((n**2,4*n)).astype(int)\n",
        "for j in range(n):\n",
        "    for k in range(n):\n",
        "        for m in range(n):\n",
        "            row = (n*j+k)\n",
        "            #a_m\n",
        "            if m == k: coeff_matrix[row,4*m+0] = z_1[j,k] \n",
        "            #b_m\n",
        "            if m == k and j == k: coeff_matrix[row,4*m+1] = 1\n",
        "            #c_m\n",
        "            coeff_matrix[row,4*m+2] = (z_1[m,j] and z_2[m,j])\n",
        "            #d_m\n",
        "            if m == j: coeff_matrix[row,4*m+3] = z_2[j,k]\n",
        "\n",
        "#other constraints (Q matrix = local clifford to be reversible --> determinant == 1)            \n"
      ],
      "metadata": {
        "id": "lkNmsGPIUSXj"
      },
      "execution_count": 81,
      "outputs": []
    },
    {
      "cell_type": "code",
      "source": [
        "#row reduction function\n",
        "def RowSwap(X,i,j):\n",
        "  X[[i,j]]=X[[j,i]]\n",
        "  return X\n",
        "\n",
        "def Add_Rows(X,i,j):\n",
        "  X[j]=(X[i]+X[j])%2\n",
        "  return X\n",
        "#Returns the row reduced matrix X, the transformed matrix Z and the rank-1\n",
        "def RowRed(X,Z,pivot):\n",
        "  n,m=np.shape(X)\n",
        "  rank=0\n",
        "  if pivot[1]==(m-1):\n",
        "    return X,Z,pivot[0]\n",
        "  else:\n",
        "    #list of rows with value 1 under the pivot element\n",
        "    the_ones=[]\n",
        "    for a in range(pivot[0],n):\n",
        "      if X[a,pivot[1]]==1:\n",
        "        the_ones.append(a)\n",
        "    #check if the column below is empty to skip it\n",
        "    if not the_ones:\n",
        "      pivot=[pivot[0],pivot[1]+1]\n",
        "      X,Z,rank=RowRed(X,Z,pivot)\n",
        "    else:\n",
        "      X=RowSwap(X,the_ones[0],pivot[0])\n",
        "      Z=RowSwap(Z,the_ones[0],pivot[0])\n",
        "      the_ones.remove(the_ones[0])\n",
        "      for b in the_ones:\n",
        "        X=Add_Rows(X,pivot[0],b)\n",
        "        Z=Add_Rows(Z,pivot[0],b)\n",
        "      pivot=[pivot[0]+1,pivot[1]+1]\n",
        "      X,Z,rank=RowRed(X,Z,pivot)\n",
        "    return X,Z,rank"
      ],
      "metadata": {
        "id": "UuMJe8PcWf7l"
      },
      "execution_count": 115,
      "outputs": []
    },
    {
      "cell_type": "code",
      "source": [
        "#find linearly dependent columns in row reduced matrix \"x\"\n",
        "#return a list with column indexes\n",
        "def col_finder(x):\n",
        "    the_list=[]\n",
        "    pivot=[0,0]\n",
        "    for i in range(np.shape(x)[1]-1):\n",
        "        #print(pivot)\n",
        "        if x[pivot[0],pivot[1]] == 1:\n",
        "            pivot=[pivot[0]+1,pivot[1]+1]\n",
        "        elif x[pivot[0],pivot[1]] == 0:\n",
        "            the_list.append(pivot[1])\n",
        "            pivot=[pivot[0],pivot[1]+1]\n",
        "        else:\n",
        "          raise ValueError('elements of matrix should be 0 or 1 only')\n",
        "    if x[-1,-1] == 0: the_list.append(np.shape(x)[1]-1)\n",
        "    return the_list"
      ],
      "metadata": {
        "id": "RjJevexb-mdV"
      },
      "execution_count": 208,
      "outputs": []
    },
    {
      "cell_type": "code",
      "source": [
        "#check for rank to see how many independent equations are there = rank of the matrix\n",
        "rank = np.linalg.matrix_rank(coeff_matrix)\n",
        "assert (rank < 4*n),\"Two graphs/states are not LC equivalent for sure\"\n",
        "\n",
        "pivot=[0,0]\n",
        "reduced_coeff_matrix,b,c=RowRed(coeff_matrix,coeff_matrix*0,pivot) #row redduction applied \n",
        "assert (c==rank or c==rank-1),\"row reduced rank is not the same as numpy rank!\" \n",
        "\n",
        "reduced_coeff_matrix=np.array([i for i in reduced_coeff_matrix if i.any()]) #update the matrix to remove zero rows \n",
        "assert (np.shape(reduced_coeff_matrix)[0]==rank),\"remaining rows are less than the rank!\"\n",
        "\n",
        "col_list = col_finder(reduced_coeff_matrix) #finding linear dependent columns!\n",
        "\n",
        "var_vec=np.zeros((4*n,1))\n",
        "for i in col_list:\n",
        "    var_vec[i]=np.random.randint(2, size=(1, 1))[0,0]\n",
        "#var_vec = a random choice of the variables' vector for the n-rank parameters that the equations cannot handle!\n",
        "\n",
        "#find the matrix equation Ax=b \n",
        "#A is the square(rank x rank) matrix out of the reduced_coeff_matrix\n",
        "#x is the the vector of length=rank to be found by A^(-1)*b\n",
        "#b is the vector obtained from randomly choosing the extra unknowns of vector rand_vec: b= (-1)* reduced_coeff_matrix * var_vec\n",
        "\n",
        "\n",
        "A = np.delete(reduced_coeff_matrix,col_list,axis=1) #removing linear dependent columns! \n",
        "b = (reduced_coeff_matrix @ var_vec)%2\n",
        "x = ((np.linalg.inv(A))%2 @ b )%2\n",
        "print(np.shape(b))\n",
        "\n",
        "#the full var_vec is now the x vector inserted to the var_vec vector to make all 4*n elements\n",
        "counter=0\n",
        "for i in range(4*n):\n",
        "    if i not in col_list:\n",
        "        var_vec[i]=x[i-counter][0]\n",
        "    else:\n",
        "        print(counter,\"i\",i)\n",
        "        counter=+1\n",
        "        \n",
        "\n",
        "#now check for constraints on a_i to d_i for elements in full_var \n",
        "##TODO\n",
        "\n",
        "\n",
        "np.set_printoptions(threshold=10000)\n",
        "#print(reduced_coeff_matrix)"
      ],
      "metadata": {
        "colab": {
          "base_uri": "https://localhost:8080/"
        },
        "id": "cHydyse4WzDr",
        "outputId": "6ca29cd8-77a3-44c0-9d75-93b1a53946ca"
      },
      "execution_count": 235,
      "outputs": [
        {
          "output_type": "stream",
          "name": "stdout",
          "text": [
            "(26, 1)\n",
            "0 i 22\n",
            "1 i 27\n"
          ]
        }
      ]
    },
    {
      "cell_type": "code",
      "source": [
        "x=np.array([[3,6]])%2\n",
        "x.T@x\n",
        "a=np.random.randint(2, size=(5, 1))\n",
        "b=np.zeros((3,1))\n",
        "np.append(b,a,axis=0)\n",
        "print(reduced_coeff_matrix)"
      ],
      "metadata": {
        "colab": {
          "base_uri": "https://localhost:8080/"
        },
        "id": "M1Bq8yHgZIUw",
        "outputId": "782e8ae4-c4b1-4cbb-8761-1bd5aa235e74"
      },
      "execution_count": 165,
      "outputs": [
        {
          "output_type": "stream",
          "name": "stdout",
          "text": [
            "[[1 0 0 0 0 0 0 0 0 0 1 0 0 0 1 0 0 0 1 0 0 0 0 0 0 0 1 0]\n",
            " [0 1 0 0 0 0 0 0 0 0 0 0 0 0 0 0 0 0 0 0 0 0 0 0 0 0 1 0]\n",
            " [0 0 1 0 0 0 1 0 0 0 1 0 0 0 0 0 0 0 0 0 0 0 1 0 0 0 1 1]\n",
            " [0 0 0 1 0 0 0 0 0 0 0 0 0 0 0 0 0 0 0 0 0 0 0 0 0 0 1 0]\n",
            " [0 0 0 0 1 0 0 0 0 0 0 0 0 0 0 0 0 0 0 0 0 0 0 0 0 0 1 0]\n",
            " [0 0 0 0 0 1 0 0 0 0 1 0 0 0 1 0 0 0 1 0 0 0 0 0 0 0 1 0]\n",
            " [0 0 0 0 0 0 1 0 0 0 0 0 0 0 0 0 0 0 0 0 0 0 0 0 0 0 0 0]\n",
            " [0 0 0 0 0 0 0 1 1 0 1 0 0 0 1 0 0 0 1 0 0 0 0 0 0 0 1 0]\n",
            " [0 0 0 0 0 0 0 0 1 0 0 0 1 0 0 0 0 0 0 0 0 0 0 0 0 0 0 0]\n",
            " [0 0 0 0 0 0 0 0 0 1 0 0 0 0 0 0 0 0 0 0 0 0 0 0 0 0 0 0]\n",
            " [0 0 0 0 0 0 0 0 0 0 1 0 0 0 0 0 0 0 1 0 0 0 0 0 0 0 0 0]\n",
            " [0 0 0 0 0 0 0 0 0 0 0 1 0 0 0 0 0 0 0 0 0 0 0 0 0 0 1 0]\n",
            " [0 0 0 0 0 0 0 0 0 0 0 0 1 0 0 0 0 0 0 0 0 0 0 0 0 0 0 0]\n",
            " [0 0 0 0 0 0 0 0 0 0 0 0 0 1 0 0 0 0 1 0 0 0 1 0 0 0 1 0]\n",
            " [0 0 0 0 0 0 0 0 0 0 0 0 0 0 1 0 0 0 0 1 0 0 0 0 0 0 0 0]\n",
            " [0 0 0 0 0 0 0 0 0 0 0 0 0 0 0 1 0 0 1 0 0 0 1 0 0 0 1 0]\n",
            " [0 0 0 0 0 0 0 0 0 0 0 0 0 0 0 0 1 0 0 0 0 0 0 0 0 0 1 0]\n",
            " [0 0 0 0 0 0 0 0 0 0 0 0 0 0 0 0 0 1 0 1 0 0 0 0 0 0 1 0]\n",
            " [0 0 0 0 0 0 0 0 0 0 0 0 0 0 0 0 0 0 1 0 0 0 1 0 0 0 1 0]\n",
            " [0 0 0 0 0 0 0 0 0 0 0 0 0 0 0 0 0 0 0 1 0 0 0 0 0 0 1 0]\n",
            " [0 0 0 0 0 0 0 0 0 0 0 0 0 0 0 0 0 0 0 0 1 0 0 0 0 0 0 0]\n",
            " [0 0 0 0 0 0 0 0 0 0 0 0 0 0 0 0 0 0 0 0 0 1 0 0 0 0 0 0]\n",
            " [0 0 0 0 0 0 0 0 0 0 0 0 0 0 0 0 0 0 0 0 0 0 0 1 0 0 0 0]\n",
            " [0 0 0 0 0 0 0 0 0 0 0 0 0 0 0 0 0 0 0 0 0 0 0 0 1 0 0 0]\n",
            " [0 0 0 0 0 0 0 0 0 0 0 0 0 0 0 0 0 0 0 0 0 0 0 0 0 1 0 1]\n",
            " [0 0 0 0 0 0 0 0 0 0 0 0 0 0 0 0 0 0 0 0 0 0 0 0 0 0 1 0]]\n"
          ]
        }
      ]
    },
    {
      "cell_type": "code",
      "source": [
        "test = np.array([[1, 2], [3, 4], [5, 6]])\n",
        "(test[:,0:2])\n",
        "-2%2\n",
        "np.random.randint(2, size=(4*n-rank, 1))\n",
        "pivot=[0,0]\n",
        "col_finder(reduced_coeff_matrix)"
      ],
      "metadata": {
        "colab": {
          "base_uri": "https://localhost:8080/"
        },
        "id": "cwFvrPFLx8-t",
        "outputId": "a25426a0-c1be-4e29-d606-537456e73bb3"
      },
      "execution_count": 203,
      "outputs": [
        {
          "output_type": "execute_result",
          "data": {
            "text/plain": [
              "[22, 27]"
            ]
          },
          "metadata": {},
          "execution_count": 203
        }
      ]
    },
    {
      "cell_type": "code",
      "source": [
        "test = np.array([[1, 2], [3, 4], [5, 6]])\n",
        "test[[2]]\n",
        "np.random.randint(2, size=(1, 1))\n",
        "for i in x:\n",
        "  print(i[0])"
      ],
      "metadata": {
        "colab": {
          "base_uri": "https://localhost:8080/"
        },
        "id": "1pKbHF25D8Bc",
        "outputId": "057f8e40-76e4-45c3-801b-2b253156e666"
      },
      "execution_count": 232,
      "outputs": [
        {
          "output_type": "stream",
          "name": "stdout",
          "text": [
            "0.0\n",
            "0.0\n",
            "1.0\n",
            "0.0\n",
            "0.0\n",
            "0.0\n",
            "0.0\n",
            "0.0\n",
            "0.0\n",
            "0.0\n",
            "0.0\n",
            "0.0\n",
            "0.0\n",
            "0.0\n",
            "0.0\n",
            "0.0\n",
            "0.0\n",
            "0.0\n",
            "0.0\n",
            "0.0\n",
            "0.0\n",
            "0.0\n",
            "0.0\n",
            "0.0\n",
            "1.0\n",
            "0.0\n"
          ]
        }
      ]
    }
  ]
}