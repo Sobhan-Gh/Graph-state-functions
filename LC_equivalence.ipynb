{
  "nbformat": 4,
  "nbformat_minor": 0,
  "metadata": {
    "colab": {
      "name": "LC equivalence.ipynb",
      "provenance": [],
      "collapsed_sections": [],
      "authorship_tag": "ABX9TyOCn5AH1q6YZTCYDCFor1P2",
      "include_colab_link": true
    },
    "kernelspec": {
      "name": "python3",
      "display_name": "Python 3"
    },
    "language_info": {
      "name": "python"
    }
  },
  "cells": [
    {
      "cell_type": "markdown",
      "metadata": {
        "id": "view-in-github",
        "colab_type": "text"
      },
      "source": [
        "<a href=\"https://colab.research.google.com/github/Sobhan-Gh/Graph-state-functions/blob/main/LC_equivalence.ipynb\" target=\"_parent\"><img src=\"https://colab.research.google.com/assets/colab-badge.svg\" alt=\"Open In Colab\"/></a>"
      ]
    },
    {
      "cell_type": "code",
      "execution_count": 23,
      "metadata": {
        "id": "vFKTvbakULXd"
      },
      "outputs": [],
      "source": [
        "import numpy as np\n",
        "import networkx as nx\n",
        "import random\n",
        "from itertools import combinations\n",
        "import warnings\n",
        "import matplotlib.pyplot as plt\n"
      ]
    },
    {
      "cell_type": "code",
      "source": [
        "#initialize random graphs for test. n is the number of qubits/ vertices\n",
        "n=int(4)\n",
        "row=0\n",
        "#G1, G2 = nx.fast_gnp_random_graph(n,0.65), nx.fast_gnp_random_graph(n,0.65)\n",
        "#G1=nx.complete_graph(n)\n",
        "#G2=nx.star_graph(n-1)\n",
        "if nx.is_connected(G1) and nx.is_connected(G2):\n",
        "    z_1=nx.to_numpy_array(G1).astype(int)\n",
        "    z_2=nx.to_numpy_array(G2).astype(int)\n",
        "else:\n",
        "    raise ValueError('graphs are not connected')\n",
        "\n",
        "\n",
        "    #other constraints (Q matrix = local clifford to be reversible --> determinant == 1)     \n",
        "\n",
        "#takes two adjacency matrices z_1 and z_2 and checks for LC \n",
        "#if we got stabilizer states, first turn them to graph and then use this function for their adjacency matrices to check for LC\n",
        "solution=solver(z_1, z_2, Mode='deterministic')\n",
        "#z_2 == clifford_transform(z_1)\n",
        "\n",
        "plt.figure(1)\n",
        "nx.draw(G1, with_labels = True)    \n",
        "plt.figure(2)\n",
        "nx.draw(G2, with_labels = True)  \n",
        "\n",
        "Local_Clifford_ops(solution)"
      ],
      "metadata": {
        "id": "lkNmsGPIUSXj",
        "colab": {
          "base_uri": "https://localhost:8080/",
          "height": 690
        },
        "outputId": "1f25d9af-f973-4b3b-840d-285c99a89ffe"
      },
      "execution_count": 79,
      "outputs": [
        {
          "output_type": "stream",
          "name": "stdout",
          "text": [
            "full rank 4 solution basis: True\n",
            "solution found! \n",
            "\n"
          ]
        },
        {
          "output_type": "execute_result",
          "data": {
            "text/plain": [
              "['I', 'H', 'H', 'I']"
            ]
          },
          "metadata": {},
          "execution_count": 79
        },
        {
          "output_type": "display_data",
          "data": {
            "text/plain": [
              "<Figure size 432x288 with 1 Axes>"
            ],
            "image/png": "[encoded data removed]"
          },
          "metadata": {}
        },
        {
          "output_type": "display_data",
          "data": {
            "text/plain": [
              "<Figure size 432x288 with 1 Axes>"
            ],
            "image/png": "[encoded data removed]"
          },
          "metadata": {}
        }
      ]
    },
    {
      "cell_type": "code",
      "source": [
        "def coeff_maker(z_1, z_2):\n",
        "    row=0\n",
        "    n=np.shape(z_1)[0]\n",
        "    assert (np.shape(z_1)[0] == np.shape(z_2)[0]),\"graphs must be of same size\"\n",
        "\n",
        "    coeff_matrix=np.zeros((n**2,4*n)).astype(int)\n",
        "    for j in range(n):\n",
        "        for k in range(n):\n",
        "            for m in range(n):\n",
        "                row = (n*j+k)\n",
        "                #a_m\n",
        "                if m == k: \n",
        "                  coeff_matrix[row,4*m+0] = z_1[j,k] \n",
        "                #b_m\n",
        "                if (m == k and j == k): \n",
        "                  coeff_matrix[row,4*m+1] = 1\n",
        "                #c_m\n",
        "                coeff_matrix[row,4*m+2] = z_1[m,j] * z_2[m,k]\n",
        "                #d_m\n",
        "                if m == j: \n",
        "                  coeff_matrix[row,4*m+3] = z_2[j,k]\n",
        "    return coeff_matrix%2"
      ],
      "metadata": {
        "id": "URJWHFP7Pw9C"
      },
      "execution_count": 24,
      "outputs": []
    },
    {
      "cell_type": "code",
      "source": [
        "#row reduction function\n",
        "def RowSwap(X,i,j):\n",
        "  X[[i,j]]=X[[j,i]]\n",
        "  return X\n",
        "\n",
        "def Add_Rows(X,i,j):\n",
        "  X[j]=(X[i]+X[j])%2\n",
        "  return X\n",
        "#Returns the row reduced matrix X, the transformed matrix Z and the rank-1\n",
        "def RowRed(X,Z,pivot):\n",
        "  n,m=np.shape(X)\n",
        "  rank=0\n",
        "  if pivot[1]==(m-1):\n",
        "    the_ones=[]\n",
        "    for a in range(pivot[0],n):\n",
        "      if X[a,pivot[1]]==1:\n",
        "        the_ones.append(a)\n",
        "    if not the_ones:\n",
        "        pivot[0]=pivot[0]-1 #empty under and including pivot on last column \n",
        "    else:\n",
        "        X=RowSwap(X,the_ones[0],pivot[0])\n",
        "        Z=RowSwap(Z,the_ones[0],pivot[0])\n",
        "        the_ones.remove(the_ones[0])\n",
        "        for b in the_ones:\n",
        "          X=Add_Rows(X,pivot[0],b)\n",
        "          Z=Add_Rows(Z,pivot[0],b)\n",
        "    return X,Z,pivot[0]\n",
        "  elif pivot[0]==(n-1):\n",
        "    if X[pivot[0],pivot[1]] == 1:\n",
        "      return X,Z,pivot[0]\n",
        "    else:\n",
        "      pivot=[pivot[0],pivot[1]+1]\n",
        "      X,Z,rank=RowRed(X,Z,pivot)\n",
        "\n",
        "  else:\n",
        "    #list of rows with value 1 under the pivot element\n",
        "    the_ones=[]\n",
        "    for a in range(pivot[0],n):\n",
        "      if X[a,pivot[1]]==1:\n",
        "        the_ones.append(a)\n",
        "    #check if the column below is empty to skip it\n",
        "    if not the_ones:\n",
        "      pivot=[pivot[0],pivot[1]+1]\n",
        "      X,Z,rank=RowRed(X,Z,pivot)\n",
        "    else:\n",
        "      X=RowSwap(X,the_ones[0],pivot[0])\n",
        "      Z=RowSwap(Z,the_ones[0],pivot[0])\n",
        "      the_ones.remove(the_ones[0])\n",
        "      for b in the_ones:\n",
        "        X=Add_Rows(X,pivot[0],b)\n",
        "        Z=Add_Rows(Z,pivot[0],b)\n",
        "      pivot=[pivot[0]+1,pivot[1]+1]\n",
        "      X,Z,rank=RowRed(X,Z,pivot)\n",
        "    return X,Z,rank"
      ],
      "metadata": {
        "id": "UuMJe8PcWf7l"
      },
      "execution_count": 25,
      "outputs": []
    },
    {
      "cell_type": "code",
      "source": [
        "#find linearly dependent columns in row reduced matrix \"x\"\n",
        "#return a list with column indexes\n",
        "def col_finder(x):\n",
        "    the_list=[]\n",
        "    pivot=[0,0]\n",
        "    m,k=np.shape(x)\n",
        "    for i in range(k-1):\n",
        "        #print(pivot)\n",
        "        if x[pivot[0],pivot[1]] == 1:\n",
        "\n",
        "            if pivot[0] == (m-1):\n",
        "                pivot=[pivot[0],pivot[1]+1]\n",
        "                the_list.extend([* range(pivot[1],k)])\n",
        "                break\n",
        "            else:\n",
        "                pivot=[pivot[0]+1,pivot[1]+1]\n",
        "            \n",
        "        elif x[pivot[0],pivot[1]] == 0:\n",
        "            the_list.append(pivot[1])\n",
        "            pivot=[pivot[0],pivot[1]+1]\n",
        "        else:\n",
        "          raise ValueError('elements of matrix should be 0 or 1 only')\n",
        "    #if x[-1,-1] == 0: the_list.append(k-1)\n",
        "    return the_list"
      ],
      "metadata": {
        "id": "RjJevexb-mdV"
      },
      "execution_count": 26,
      "outputs": []
    },
    {
      "cell_type": "code",
      "source": [
        "def verifier(vector):\n",
        "    #reshapes a 4*n vector into an array of 2*2 matrices which are the a_i, b_i, c_i, d_i  elements in Q = Clifford matrix \n",
        "    n=int(np.shape(vector)[0]/4)\n",
        "    v=vector.reshape(n,2,2)\n",
        "    checklist=[]\n",
        "    for i in range(n):\n",
        "        a = (v[i][0,0]*v[i][1,1]) + (v[i][0,1]*v[i][1,0]) #XOR\n",
        "        checklist.append(int(a%2))\n",
        "    return all(checklist)"
      ],
      "metadata": {
        "id": "hDUvz7NLQ243"
      },
      "execution_count": 27,
      "outputs": []
    },
    {
      "cell_type": "code",
      "source": [
        "def solver(z_1, z_2, Mode='deterministic'):\n",
        "    n=np.shape(z_1)[0]\n",
        "    #get the coefficient matrix for the system of linear equations\n",
        "    coeff_matrix = coeff_maker(z_1, z_2)\n",
        "\n",
        "    #check for rank to see how many independent equations are there = rank of the matrix\n",
        "    rank = np.linalg.matrix_rank(coeff_matrix)\n",
        "    if (rank >= 4*n): \n",
        "        print(f'rank = {rank} >= 4n = {4*n} Two graphs/states are not LC equivalent for sure')\n",
        "        return\n",
        "\n",
        "    pivot=[0,0]\n",
        "    reduced_coeff_matrix,b,c=RowRed(coeff_matrix,coeff_matrix*0,pivot) #row redduction applied \n",
        "    assert (c+1==rank),f'row reduced rank {c} is not the same as numpy rank {rank}!' \n",
        "    if (abs(c-rank)>1): warnings.warn(f'row reduced rank {c} is not the same as numpy rank {rank}!')\n",
        "\n",
        "    reduced_coeff_matrix=np.array([i for i in reduced_coeff_matrix if i.any()]) #update the matrix to remove zero rows \n",
        "    assert (np.shape(reduced_coeff_matrix)[0]==rank),\"remaining rows are less than the rank!\"\n",
        "    rank = np.shape(reduced_coeff_matrix)[0]\n",
        "\n",
        "    col_list = col_finder(reduced_coeff_matrix) #finding linear dependent columns!\n",
        "    L=len(col_list)\n",
        "    assert (L==4*n-rank),\"column list is not correct\"\n",
        "\n",
        "    #check for random solution 1000 times\n",
        "    if Mode == 'random':\n",
        "        rand_s = random_checker(reduced_coeff_matrix, col_list,try_count=1000)\n",
        "        return(rand_s) #random result\n",
        "\n",
        "    elif Mode =='deterministic':\n",
        "\n",
        "        #var_vec_list=np.zeros((L,4*n,1)) # L elements and in each element there is a 4*n size vector \n",
        "        #for i in range(L):\n",
        "        #    for j in range(L):\n",
        "        #        var_vec_list[i,col_list[j]]=basis_list[i][j]\n",
        "\n",
        "        basis = solution_basis_finder(reduced_coeff_matrix, col_list)\n",
        "        sub_set = list(combinations(basis, 2))\n",
        "        solution_set = []\n",
        "        for x in sub_set:\n",
        "            a = x[0]+x[1]\n",
        "            solution_set.append(a%2)\n",
        "        for y in solution_set:\n",
        "            if verifier(y):\n",
        "                print(\"solution found! \\n\")\n",
        "                return y\n",
        "        print(\"states are NOT LC equivalent\")\n",
        "        return \n",
        "    else:\n",
        "        print(\"the Mode should be either 'random' or 'deterministic' (default)\")\n",
        "\n",
        "def solution_basis_finder(reduced_coeff_matrix, col_list):\n",
        "    #make the B set: basis for all acceptable solutions\n",
        "    n=int(np.shape(reduced_coeff_matrix)[1]/4)\n",
        "    L=len(col_list)\n",
        "    bbb=[]\n",
        "    for c in col_list:\n",
        "      b=reduced_coeff_matrix[:,c]\n",
        "      b=b.reshape((np.shape(reduced_coeff_matrix)[1]-L,1))\n",
        "      bbb.append(b)\n",
        "    B=np.array(bbb) #contains all vectors b as its columns\n",
        "\n",
        "    A = np.delete(reduced_coeff_matrix,col_list,axis=1) #removing linear dependent columns! \n",
        "\n",
        "    X=((np.linalg.inv(A))%2@B)%2\n",
        "    X=X.astype(int)\n",
        "    counter=0\n",
        "    new_X = np.zeros((L,np.shape(reduced_coeff_matrix)[1],1))\n",
        "    basis_list=np.eye(L).astype(int)\n",
        "    llist=[]\n",
        "    for counter in range(L):\n",
        "        llist.append(list((X[counter][:,0])))\n",
        "        for i in range(L):\n",
        "            llist[counter].insert(col_list[i],basis_list[counter,i])\n",
        "    V=np.array(llist)\n",
        "    V=V.reshape((L,np.shape(reduced_coeff_matrix)[1],1))\n",
        "\n",
        "    print(f'full rank {np.shape(V)[0]} solution basis:',np.linalg.matrix_rank(V[:,:,0])==np.shape(V)[0]) # good to be full rank! but it is not necessary actually\n",
        "    #check also that it give zero array as result:\n",
        "    assert not(((reduced_coeff_matrix@V)%2).any()),\"solution basis is wrong!\"\n",
        "    #L=len(col_list)\n",
        "    #basis=[]\n",
        "    #for i in range(L):\n",
        "    #    basis.append(vec_solution_finder(reduced_coeff_matrix, col_list, var_vec_list[i]))\n",
        "    return V.astype(int)\n",
        "\n",
        "def random_checker(reduced_coeff_matrix, col_list,try_count=10000):\n",
        "    n=int(np.shape(reduced_coeff_matrix)[1]/4)\n",
        "    L=len(col_list)\n",
        "\n",
        "    #rand_var_vec = a random choice of the variables' vector for the n-rank parameters that the equations cannot handle!\n",
        "    \n",
        "    for i in range(try_count):\n",
        "        rand_var_vec=np.zeros((4*n,1))\n",
        "        for i in range(L):\n",
        "            rand_var_vec[col_list[i]]=np.random.randint(2, size=(1, 1))[0,0]\n",
        "        solution=vec_solution_finder(reduced_coeff_matrix, col_list, rand_var_vec)\n",
        "        if verifier(solution):\n",
        "          print(\"Random solution found!\")\n",
        "          return solution\n",
        "    print(\"Random search unsuccessful\")\n",
        "    return\n",
        "    \n",
        "\n",
        "\n",
        "def vec_solution_finder(reduced_coeff_matrix, col_list, var_vec):\n",
        "    #find the matrix equation Ax=b \n",
        "    #A is the square(rank x rank) matrix out of the reduced_coeff_matrix\n",
        "    #x is the the vector of length=rank to be found by A^(-1)*b\n",
        "    #b is the vector obtained from randomly choosing the extra unknowns of vector rand_vec: b= (-1)* reduced_coeff_matrix * var_vec\n",
        "\n",
        "    n=int(np.shape(reduced_coeff_matrix)[1]/4)\n",
        "    A = np.delete(reduced_coeff_matrix,col_list,axis=1) #removing linear dependent columns! \n",
        "    b = (reduced_coeff_matrix @ var_vec)%2\n",
        "    x = ((np.linalg.inv(A))%2 @ b )%2\n",
        "    #print(x)\n",
        "\n",
        "    #the full var_vec is now the x vector inserted to the var_vec vector to make all 4*n elements\n",
        "    counter=0\n",
        "    for i in range(4*n):\n",
        "        if i not in col_list:\n",
        "            var_vec[i]=x[i-counter][0]\n",
        "        else:\n",
        "            counter=counter+1\n",
        "\n",
        "    return var_vec.astype(int)\n"
      ],
      "metadata": {
        "id": "cHydyse4WzDr"
      },
      "execution_count": 76,
      "outputs": []
    },
    {
      "cell_type": "code",
      "source": [
        "def Local_Clifford_ops(solution):\n",
        "\n",
        "    #return a list of operators needed to be applied on the first graph to transform in to the second. \n",
        "    #The order of the operations is the same as the qubits' labels in the graphs\n",
        "\n",
        "    n=int(np.shape(solution)[0]/4)\n",
        "    #convert the solution to an array of n * (2*2) matrices\n",
        "    v=solution.reshape(n,2,2)\n",
        "\n",
        "    #allowed operations on single qubits\n",
        "    I = np.array([[1,0],[0,1]])\n",
        "    H = np.array([[0,1],[1,0]])\n",
        "    P = np.array([[1,1],[0,1]])\n",
        "    PH = np.array([[1,1],[1,0]])\n",
        "    HP_dag = np.array([[0,1],[1,1]])\n",
        "    PHP = np.array([[1,0],[1,1]])\n",
        "\n",
        "    ops_list=[I, H, P, PH, HP_dag, PHP]\n",
        "    ops_list_str=['I', 'H', 'P', 'PH', 'HP_dag', 'PHP']\n",
        "    ops_dict = zip(list(range(len(ops_list))), ops_list_str)\n",
        "    ops_dict = dict(ops_dict)\n",
        "    ops_names=[]\n",
        "    for i in v:\n",
        "        #a = [ops_list.index(j) for j in ops_list if (i==j).all()] # a size = 1 list, contains the index of operation\n",
        "        for j in range(len(ops_list)):\n",
        "            if np.array_equal(i,ops_list[j]):\n",
        "                ops_names.append(ops_dict[j])\n",
        "    return ops_names"
      ],
      "metadata": {
        "id": "Zq35rW3zsOE_"
      },
      "execution_count": 74,
      "outputs": []
    },
    {
      "cell_type": "code",
      "source": [
        "coeff_matrix=coeff_maker(z_1, z_2)\n",
        "np.linalg.matrix_rank(coeff_matrix)\n",
        "a,b,c=RowRed(coeff_matrix,0*coeff_matrix,[0,0])\n",
        "#print(a)\n",
        "all([1,1])\n",
        "z_2\n",
        "i"
      ],
      "metadata": {
        "colab": {
          "base_uri": "https://localhost:8080/"
        },
        "id": "ZD9IjhyKTsls",
        "outputId": "5908d456-2bb6-41e6-a9ae-d3394c504dfe"
      },
      "execution_count": 61,
      "outputs": [
        {
          "output_type": "execute_result",
          "data": {
            "text/plain": [
              "3"
            ]
          },
          "metadata": {},
          "execution_count": 61
        }
      ]
    },
    {
      "cell_type": "code",
      "source": [
        "coeff_matrix = coeff_maker(z_1, z_2)\n",
        "print(coeff_matrix)"
      ],
      "metadata": {
        "id": "pYt9-wa7xnge",
        "colab": {
          "base_uri": "https://localhost:8080/"
        },
        "outputId": "9008794d-c20a-49a4-bea3-ffb601fa4bba"
      },
      "execution_count": 31,
      "outputs": [
        {
          "output_type": "stream",
          "name": "stdout",
          "text": [
            "[[0 1 0 0 0 0 1 0 0 0 1 0 0 0 0 0]\n",
            " [0 0 0 1 1 0 0 0 0 0 1 0 0 0 0 0]\n",
            " [0 0 0 1 0 0 1 0 1 0 0 0 0 0 0 0]\n",
            " [0 0 0 1 0 0 0 0 0 0 1 0 0 0 0 0]\n",
            " [1 0 0 0 0 0 0 1 0 0 1 0 0 0 1 0]\n",
            " [0 0 1 0 0 1 0 0 0 0 1 0 0 0 0 0]\n",
            " [0 0 1 0 0 0 0 1 1 0 0 0 0 0 1 0]\n",
            " [0 0 1 0 0 0 0 0 0 0 1 0 1 0 0 0]\n",
            " [1 0 0 0 0 0 1 0 0 0 0 1 0 0 0 0]\n",
            " [0 0 1 0 1 0 0 0 0 0 0 1 0 0 0 0]\n",
            " [0 0 1 0 0 0 1 0 0 1 0 0 0 0 0 0]\n",
            " [0 0 1 0 0 0 0 0 0 0 0 1 0 0 0 0]\n",
            " [0 0 0 0 0 0 1 0 0 0 0 0 0 0 0 1]\n",
            " [0 0 0 0 1 0 0 0 0 0 0 0 0 0 0 0]\n",
            " [0 0 0 0 0 0 1 0 0 0 0 0 0 0 0 1]\n",
            " [0 0 0 0 0 0 0 0 0 0 0 0 0 1 0 0]]\n"
          ]
        }
      ]
    },
    {
      "cell_type": "code",
      "source": [
        "reduced_coeff_matrix,b,c=RowRed(coeff_matrix,coeff_matrix*0,[0,0])\n",
        "print(reduced_coeff_matrix,c)"
      ],
      "metadata": {
        "id": "jC9M3XHtCPgN",
        "colab": {
          "base_uri": "https://localhost:8080/"
        },
        "outputId": "3a78dd2b-52e5-4933-f7a3-d0b2ca92e091"
      },
      "execution_count": 32,
      "outputs": [
        {
          "output_type": "stream",
          "name": "stdout",
          "text": [
            "[[1 0 0 0 0 0 0 1 0 0 1 0 0 0 1 0]\n",
            " [0 1 0 0 0 0 1 0 0 0 1 0 0 0 0 0]\n",
            " [0 0 1 0 0 1 0 0 0 0 1 0 0 0 0 0]\n",
            " [0 0 0 1 0 0 0 0 0 0 1 0 0 0 0 0]\n",
            " [0 0 0 0 1 0 0 0 0 0 0 0 0 0 0 0]\n",
            " [0 0 0 0 0 1 0 1 1 0 1 0 0 0 1 0]\n",
            " [0 0 0 0 0 0 1 0 1 0 1 0 0 0 0 0]\n",
            " [0 0 0 0 0 0 0 1 1 0 1 0 1 0 1 0]\n",
            " [0 0 0 0 0 0 0 0 1 1 0 0 1 0 0 0]\n",
            " [0 0 0 0 0 0 0 0 0 1 1 0 1 0 0 1]\n",
            " [0 0 0 0 0 0 0 0 0 0 1 1 1 0 0 0]\n",
            " [0 0 0 0 0 0 0 0 0 0 0 0 0 1 0 0]\n",
            " [0 0 0 0 0 0 0 0 0 0 0 0 0 0 0 0]\n",
            " [0 0 0 0 0 0 0 0 0 0 0 0 0 0 0 0]\n",
            " [0 0 0 0 0 0 0 0 0 0 0 0 0 0 0 0]\n",
            " [0 0 0 0 0 0 0 0 0 0 0 0 0 0 0 0]] 11\n"
          ]
        }
      ]
    },
    {
      "cell_type": "code",
      "source": [
        "np.linalg.matrix_rank(coeff_matrix)"
      ],
      "metadata": {
        "id": "zErG8u6cEBI1",
        "colab": {
          "base_uri": "https://localhost:8080/"
        },
        "outputId": "22b8dd69-b078-4c54-b7fd-f19f134740f1"
      },
      "execution_count": 33,
      "outputs": [
        {
          "output_type": "execute_result",
          "data": {
            "text/plain": [
              "12"
            ]
          },
          "metadata": {},
          "execution_count": 33
        }
      ]
    },
    {
      "cell_type": "code",
      "source": [
        "reduced_coeff_matrix=np.array([i for i in reduced_coeff_matrix if i.any()])\n",
        "print(reduced_coeff_matrix)"
      ],
      "metadata": {
        "id": "8JxxPFx4EOOC",
        "colab": {
          "base_uri": "https://localhost:8080/"
        },
        "outputId": "b7adba37-9a8d-41a1-85b0-5344bea979b1"
      },
      "execution_count": 34,
      "outputs": [
        {
          "output_type": "stream",
          "name": "stdout",
          "text": [
            "[[1 0 0 0 0 0 0 1 0 0 1 0 0 0 1 0]\n",
            " [0 1 0 0 0 0 1 0 0 0 1 0 0 0 0 0]\n",
            " [0 0 1 0 0 1 0 0 0 0 1 0 0 0 0 0]\n",
            " [0 0 0 1 0 0 0 0 0 0 1 0 0 0 0 0]\n",
            " [0 0 0 0 1 0 0 0 0 0 0 0 0 0 0 0]\n",
            " [0 0 0 0 0 1 0 1 1 0 1 0 0 0 1 0]\n",
            " [0 0 0 0 0 0 1 0 1 0 1 0 0 0 0 0]\n",
            " [0 0 0 0 0 0 0 1 1 0 1 0 1 0 1 0]\n",
            " [0 0 0 0 0 0 0 0 1 1 0 0 1 0 0 0]\n",
            " [0 0 0 0 0 0 0 0 0 1 1 0 1 0 0 1]\n",
            " [0 0 0 0 0 0 0 0 0 0 1 1 1 0 0 0]\n",
            " [0 0 0 0 0 0 0 0 0 0 0 0 0 1 0 0]]\n"
          ]
        }
      ]
    },
    {
      "cell_type": "code",
      "source": [
        "iman=33\n",
        "animals = [1,2,3,4,iman]\n",
        "str(animals[4])\n",
        "# get the index of 'dog'\n",
        "\n",
        "[animals.index(j) for j in animals if j==33]\n",
        "ops_dict = dict(zip(list(range(len(animals))), animals))\n",
        "print(ops_dict[1])"
      ],
      "metadata": {
        "id": "xsxTI7c73wAQ",
        "colab": {
          "base_uri": "https://localhost:8080/"
        },
        "outputId": "2df78858-e205-45ed-cd3a-c6b7c4d84d24"
      },
      "execution_count": 53,
      "outputs": [
        {
          "output_type": "stream",
          "name": "stdout",
          "text": [
            "2\n"
          ]
        }
      ]
    },
    {
      "cell_type": "code",
      "source": [
        "    for i in solution:\n",
        "        print(i,type(I),np.array_equal(i,H))\n",
        "        a = [ops_list.index(j) for j in ops_list if: (np.array_equal(j, i))] # a size = 1 list, contains the index of operation\n",
        "        ops_names.append(ops_dict[a[0]])\n",
        "        print(ops_names)\n",
        "        a = []"
      ],
      "metadata": {
        "id": "xMeAHkk263R9"
      },
      "execution_count": null,
      "outputs": []
    }
  ]
}