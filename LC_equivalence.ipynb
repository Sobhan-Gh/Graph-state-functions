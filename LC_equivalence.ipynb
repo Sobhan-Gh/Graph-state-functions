{
  "cells": [
    {
      "cell_type": "markdown",
      "metadata": {
        "id": "view-in-github",
        "colab_type": "text"
      },
      "source": [
        "<a href=\"https://colab.research.google.com/github/Sobhan-Gh/Graph-state-functions/blob/main/LC_equivalence.ipynb\" target=\"_parent\"><img src=\"https://colab.research.google.com/assets/colab-badge.svg\" alt=\"Open In Colab\"/></a>"
      ]
    },
    {
      "cell_type": "code",
      "execution_count": null,
      "metadata": {
        "id": "vFKTvbakULXd"
      },
      "outputs": [],
      "source": [
        "import numpy as np\n",
        "import networkx as nx\n",
        "import random\n",
        "from itertools import combinations\n",
        "from itertools import permutations\n",
        "import warnings\n",
        "import matplotlib.pyplot as plt\n",
        "from IPython.display import clear_output\n"
      ]
    },
    {
      "cell_type": "code",
      "execution_count": null,
      "metadata": {
        "id": "ZCDYJhgcNCD8"
      },
      "outputs": [],
      "source": [
        "#produce random pair of graphs with 'n' vertices until you find a pair that are LC equal. \n",
        "def tester(n):\n",
        "    solution=1\n",
        "    while not isinstance(solution,type(np.array([0]))):\n",
        "        row=0\n",
        "        G1, G2 = nx.fast_gnp_random_graph(n,0.65), nx.fast_gnp_random_graph(n,0.65)\n",
        "\n",
        "        z_1=nx.to_numpy_array(G1).astype(int)\n",
        "        z_2=nx.to_numpy_array(G2).astype(int)\n",
        "\n",
        "        solution=solver(z_1, z_2, Mode='deterministic')\n",
        "\n",
        " \n",
        "\n",
        "        if isinstance(solution,type(np.array([0]))):\n",
        "            plt.figure(1)\n",
        "            nx.draw(G1, with_labels = True)    \n",
        "            plt.figure(2)\n",
        "            nx.draw(G2, with_labels = True) \n",
        "            print(Local_Clifford_ops(solution),\"\\n\")\n",
        "        else: \n",
        "            clear_output(wait=True)\n",
        "\n",
        "    return solution, (G1, G2)"
      ]
    },
    {
      "cell_type": "code",
      "execution_count": null,
      "metadata": {
        "id": "URJWHFP7Pw9C"
      },
      "outputs": [],
      "source": [
        "def coeff_maker(z_1, z_2):\n",
        "    row=0\n",
        "    n=np.shape(z_1)[0]\n",
        "    assert (np.shape(z_1)[0] == np.shape(z_2)[0]),\"graphs must be of same size\"\n",
        "\n",
        "    coeff_matrix=np.zeros((n**2,4*n)).astype(int)\n",
        "    for j in range(n):\n",
        "        for k in range(n):\n",
        "            for m in range(n):\n",
        "                row = (n*j+k)\n",
        "                #a_m\n",
        "                if m == k: \n",
        "                  coeff_matrix[row,4*m+0] = z_1[j,k] \n",
        "                #b_m\n",
        "                if (m == k and j == k): \n",
        "                  coeff_matrix[row,4*m+1] = 1\n",
        "                #c_m\n",
        "                coeff_matrix[row,4*m+2] = z_1[m,j] * z_2[m,k]\n",
        "                #d_m\n",
        "                if m == j: \n",
        "                  coeff_matrix[row,4*m+3] = z_2[j,k]\n",
        "    return coeff_matrix%2"
      ]
    },
    {
      "cell_type": "code",
      "execution_count": null,
      "metadata": {
        "id": "UuMJe8PcWf7l"
      },
      "outputs": [],
      "source": [
        "#row reduction function\n",
        "def RowSwap(X,i,j):\n",
        "  X[[i,j]]=X[[j,i]]\n",
        "  return X\n",
        "\n",
        "def Add_Rows(X,i,j):\n",
        "  X[j]=(X[i]+X[j])%2\n",
        "  return X\n",
        "#Returns the row reduced matrix X, the transformed matrix Z and the rank-1\n",
        "def RowRed(X,Z,pivot):\n",
        "  n,m=np.shape(X)\n",
        "  rank=0\n",
        "  if pivot[1]==(m-1):\n",
        "    the_ones=[]\n",
        "    for a in range(pivot[0],n):\n",
        "      if X[a,pivot[1]]==1:\n",
        "        the_ones.append(a)\n",
        "    if not the_ones:\n",
        "        pivot[0]=pivot[0]-1 #empty under and including pivot on last column \n",
        "    else:\n",
        "        X=RowSwap(X,the_ones[0],pivot[0])\n",
        "        Z=RowSwap(Z,the_ones[0],pivot[0])\n",
        "        the_ones.remove(the_ones[0])\n",
        "        for b in the_ones:\n",
        "          X=Add_Rows(X,pivot[0],b)\n",
        "          Z=Add_Rows(Z,pivot[0],b)\n",
        "    return X,Z,pivot[0]\n",
        "  elif pivot[0]==(n-1):\n",
        "    if X[pivot[0],pivot[1]] == 1:\n",
        "      return X,Z,pivot[0]\n",
        "    else:\n",
        "      pivot=[pivot[0],pivot[1]+1]\n",
        "      X,Z,rank=RowRed(X,Z,pivot)\n",
        "\n",
        "  else:\n",
        "    #list of rows with value 1 under the pivot element\n",
        "    the_ones=[]\n",
        "    for a in range(pivot[0],n):\n",
        "      if X[a,pivot[1]]==1:\n",
        "        the_ones.append(a)\n",
        "    #check if the column below is empty to skip it\n",
        "    if not the_ones:\n",
        "      pivot=[pivot[0],pivot[1]+1]\n",
        "      X,Z,rank=RowRed(X,Z,pivot)\n",
        "    else:\n",
        "      X=RowSwap(X,the_ones[0],pivot[0])\n",
        "      Z=RowSwap(Z,the_ones[0],pivot[0])\n",
        "      the_ones.remove(the_ones[0])\n",
        "      for b in the_ones:\n",
        "        X=Add_Rows(X,pivot[0],b)\n",
        "        Z=Add_Rows(Z,pivot[0],b)\n",
        "      pivot=[pivot[0]+1,pivot[1]+1]\n",
        "      X,Z,rank=RowRed(X,Z,pivot)\n",
        "    return X,Z,rank"
      ]
    },
    {
      "cell_type": "code",
      "execution_count": null,
      "metadata": {
        "id": "RjJevexb-mdV"
      },
      "outputs": [],
      "source": [
        "#find linearly dependent columns in row reduced matrix \"x\"\n",
        "#return a list with column indexes\n",
        "def col_finder(x):\n",
        "    the_list=[]\n",
        "    pivot=[0,0]\n",
        "    m,k=np.shape(x)\n",
        "    for i in range(k-1):\n",
        "        #print(pivot)\n",
        "        if x[pivot[0],pivot[1]] == 1:\n",
        "\n",
        "            if pivot[0] == (m-1):\n",
        "                pivot=[pivot[0],pivot[1]+1]\n",
        "                the_list.extend([* range(pivot[1],k)])\n",
        "                break\n",
        "            else:\n",
        "                pivot=[pivot[0]+1,pivot[1]+1]\n",
        "            \n",
        "        elif x[pivot[0],pivot[1]] == 0:\n",
        "            the_list.append(pivot[1])\n",
        "            pivot=[pivot[0],pivot[1]+1]\n",
        "        else:\n",
        "          raise ValueError('elements of matrix should be 0 or 1 only')\n",
        "    #if x[-1,-1] == 0: the_list.append(k-1)\n",
        "    return the_list"
      ]
    },
    {
      "cell_type": "code",
      "execution_count": null,
      "metadata": {
        "id": "hDUvz7NLQ243"
      },
      "outputs": [],
      "source": [
        "def verifier(vector):\n",
        "    #reshapes a 4*n vector into an array of 2*2 matrices which are the a_i, b_i, c_i, d_i  elements in Q = Clifford matrix \n",
        "    n=int(np.shape(vector)[0]/4)\n",
        "    v=vector.reshape(n,2,2)\n",
        "    checklist=[]\n",
        "    for i in range(n):\n",
        "        a = (v[i][0,0]*v[i][1,1]) + (v[i][0,1]*v[i][1,0]) #XOR\n",
        "        checklist.append(int(a%2))\n",
        "    return all(checklist)"
      ]
    },
    {
      "cell_type": "code",
      "execution_count": null,
      "metadata": {
        "id": "cHydyse4WzDr"
      },
      "outputs": [],
      "source": [
        "def solver(z_1, z_2, Mode='deterministic'):\n",
        "\n",
        "    # gets two adjacency matrices as input and returns an np.array containing n (2*2 array)s = clifford operations on each qubit\n",
        "    n=np.shape(z_1)[0]\n",
        "    #get the coefficient matrix for the system of linear equations\n",
        "    coeff_matrix = coeff_maker(z_1, z_2)\n",
        "\n",
        "    #check for rank to see how many independent equations are there = rank of the matrix\n",
        "    rank = np.linalg.matrix_rank(coeff_matrix)\n",
        "    if (rank >= 4*n): \n",
        "        print(f'rank = {rank} >= 4n = {4*n} Two graphs/states are not LC equivalent for sure')\n",
        "        return\n",
        "\n",
        "    pivot=[0,0]\n",
        "    reduced_coeff_matrix,b,c=new_RowRed(coeff_matrix,coeff_matrix*0) #row redduction applied \n",
        "\n",
        "    rank = c+1\n",
        "    reduced_coeff_matrix=np.array([i for i in reduced_coeff_matrix if i.any()]) #update the matrix to remove zero rows \n",
        "    assert (np.shape(reduced_coeff_matrix)[0]==rank),\"remaining rows are less than the rank!\"\n",
        "    rank = np.shape(reduced_coeff_matrix)[0]\n",
        "\n",
        "    col_list = col_finder(reduced_coeff_matrix) #finding linear dependent columns!\n",
        "    L=len(col_list)\n",
        "    assert (L==4*n-rank),\"column list is not correct\"\n",
        "\n",
        "    #check for random solution 1000 times\n",
        "    if Mode == 'random':\n",
        "        rand_s = random_checker(reduced_coeff_matrix, col_list,try_count=1000)\n",
        "        if isinstance(rand_s,type(np.array([0]))):\n",
        "            return(rand_s.reshape(n,2,2)) #random result\n",
        "        else: \n",
        "            return\n",
        "\n",
        "    elif Mode =='deterministic':\n",
        "\n",
        "        basis = solution_basis_finder(reduced_coeff_matrix, col_list)\n",
        "        sub_set = list(combinations(basis, 2))\n",
        "        solution_set = []\n",
        "        for x in sub_set:\n",
        "            a = x[0]+x[1]\n",
        "            solution_set.append(a%2)\n",
        "        for y in solution_set:\n",
        "            if verifier(y):\n",
        "                print(\"solution found! \\n\")\n",
        "                return y.reshape(n,2,2) #convert the solution (=y) to an array of n * (2*2) matrices\n",
        "        print(\"states are NOT LC equivalent\")\n",
        "        return \n",
        "    else:\n",
        "        print(\"the Mode should be either 'random' or 'deterministic' (default)\")\n",
        "        return\n",
        "\n",
        "def solution_basis_finder(reduced_coeff_matrix, col_list):\n",
        "    #make the B set: basis for all acceptable solutions\n",
        "    n=int(np.shape(reduced_coeff_matrix)[1]/4)\n",
        "    L=len(col_list)\n",
        "    bbb=[]\n",
        "    for c in col_list:\n",
        "      b=reduced_coeff_matrix[:,c]\n",
        "      b=b.reshape((np.shape(reduced_coeff_matrix)[1]-L,1))\n",
        "      bbb.append(b)\n",
        "    B=np.array(bbb) #contains all vectors b as its columns\n",
        "\n",
        "    A = np.delete(reduced_coeff_matrix,col_list,axis=1) #removing linear dependent columns! \n",
        "\n",
        "    X=((np.linalg.inv(A))%2@B)%2\n",
        "    X=X.astype(int)\n",
        "    counter=0\n",
        "    new_X = np.zeros((L,np.shape(reduced_coeff_matrix)[1],1))\n",
        "    basis_list=np.eye(L).astype(int)\n",
        "    llist=[]\n",
        "    for counter in range(L):\n",
        "        llist.append(list((X[counter][:,0])))\n",
        "        for i in range(L):\n",
        "            llist[counter].insert(col_list[i],basis_list[counter,i])\n",
        "    V=np.array(llist)\n",
        "    V=V.reshape((L,np.shape(reduced_coeff_matrix)[1],1))\n",
        "\n",
        "    print(f'full rank {np.shape(V)[0]} solution basis:',np.linalg.matrix_rank(V[:,:,0])==np.shape(V)[0]) # good to be full rank! but it is not necessary actually\n",
        "    #check also that it give zero array as result:\n",
        "    assert not(((reduced_coeff_matrix@V)%2).any()),\"solution basis is wrong!\"\n",
        "\n",
        "    return V.astype(int)\n",
        "\n",
        "def random_checker(reduced_coeff_matrix, col_list,try_count=10000):\n",
        "    n=int(np.shape(reduced_coeff_matrix)[1]/4)\n",
        "    L=len(col_list)\n",
        "\n",
        "    #rand_var_vec = a random choice of the variables' vector for the n-rank parameters that the equations cannot handle!\n",
        "    \n",
        "    for i in range(try_count):\n",
        "        rand_var_vec=np.zeros((4*n,1))\n",
        "        for i in range(L):\n",
        "            rand_var_vec[col_list[i]]=np.random.randint(2, size=(1, 1))[0,0]\n",
        "        solution=vec_solution_finder(reduced_coeff_matrix, col_list, rand_var_vec)\n",
        "        if verifier(solution):\n",
        "          print(\"Random solution found!\")\n",
        "          return solution\n",
        "    print(\"Random search unsuccessful\")\n",
        "    return\n",
        "    \n",
        "\n",
        "\n",
        "def vec_solution_finder(reduced_coeff_matrix, col_list, var_vec):\n",
        "    #find the matrix equation Ax=b \n",
        "    #A is the square(rank x rank) matrix out of the reduced_coeff_matrix\n",
        "    #x is the the vector of length=rank to be found by A^(-1)*b\n",
        "    #b is the vector obtained from randomly choosing the extra unknowns of vector rand_vec: b= (-1)* reduced_coeff_matrix * var_vec\n",
        "\n",
        "    n=int(np.shape(reduced_coeff_matrix)[1]/4)\n",
        "    A = np.delete(reduced_coeff_matrix,col_list,axis=1) #removing linear dependent columns! \n",
        "    b = (reduced_coeff_matrix @ var_vec)%2\n",
        "    x = ((np.linalg.inv(A))%2 @ b )%2\n",
        "    #print(x)\n",
        "\n",
        "    #the full var_vec is now the x vector inserted to the var_vec vector to make all 4*n elements\n",
        "    counter=0\n",
        "    for i in range(4*n):\n",
        "        if i not in col_list:\n",
        "            var_vec[i]=x[i-counter][0]\n",
        "        else:\n",
        "            counter=counter+1\n",
        "\n",
        "    return var_vec.astype(int)\n"
      ]
    },
    {
      "cell_type": "code",
      "execution_count": null,
      "metadata": {
        "id": "Zq35rW3zsOE_"
      },
      "outputs": [],
      "source": [
        "def Local_Clifford_ops(solution):\n",
        "\n",
        "    #return a list of operators needed to be applied on the first graph to transform in to the second. \n",
        "    #The order of the operations is the same as the qubits' labels in the graphs\n",
        "\n",
        "    n=int(np.shape(solution)[0]/4)\n",
        "\n",
        "    #allowed operations on single qubits\n",
        "    I = np.array([[1,0],[0,1]])\n",
        "    H = np.array([[0,1],[1,0]])\n",
        "    P = np.array([[1,1],[0,1]])\n",
        "    PH = np.array([[1,1],[1,0]])\n",
        "    HP_dag = np.array([[0,1],[1,1]])\n",
        "    PHP = np.array([[1,0],[1,1]])\n",
        "\n",
        "    ops_list=[I, H, P, PH, HP_dag, PHP]\n",
        "    ops_list_str=['I', 'H', 'P', 'PH', 'HP_dag', 'PHP']\n",
        "    ops_dict = zip(list(range(len(ops_list))), ops_list_str)\n",
        "    ops_dict = dict(ops_dict)\n",
        "    ops_names=[]\n",
        "    for i in solution:\n",
        "        #a = [ops_list.index(j) for j in ops_list if (i==j).all()] # a size = 1 list, contains the index of operation\n",
        "        for j in range(len(ops_list)):\n",
        "            if np.array_equal(i,ops_list[j]):\n",
        "                ops_names.append(ops_dict[j])\n",
        "    return ops_names"
      ]
    },
    {
      "cell_type": "code",
      "execution_count": null,
      "metadata": {
        "id": "TZ76newFRL9x"
      },
      "outputs": [],
      "source": [
        "#maybe more optimal row echlon form function\n",
        "\n",
        "def RowRed_one_step(X, Z, pivot): #one step of the algorithm, only on the pivot provided here\n",
        "  n,m=np.shape(X)\n",
        "  rank=0\n",
        "  if pivot[1]==(m-1):\n",
        "    the_ones=[]\n",
        "    for a in range(pivot[0],n):\n",
        "      if X[a,pivot[1]]==1:\n",
        "        the_ones.append(a)\n",
        "    if not the_ones: #empty under (and including) pivot element on last column \n",
        "        pivot[0]=pivot[0]-1 \n",
        "    else:\n",
        "        X=RowSwap(X,the_ones[0],pivot[0])\n",
        "        Z=RowSwap(Z,the_ones[0],pivot[0])\n",
        "        the_ones.remove(the_ones[0])\n",
        "        for b in the_ones:\n",
        "          X=Add_Rows(X,pivot[0],b)\n",
        "          Z=Add_Rows(Z,pivot[0],b)\n",
        "    return X,Z,pivot\n",
        "  elif pivot[0]==(n-1):\n",
        "    if X[pivot[0],pivot[1]] == 1:\n",
        "      return X,Z,pivot\n",
        "    else:\n",
        "      pivot=[pivot[0],pivot[1]+1]\n",
        "      return X,Z,pivot\n",
        "\n",
        "  else:\n",
        "    #list of rows with value 1 under the pivot element\n",
        "    the_ones=[]\n",
        "    for a in range(pivot[0],n):\n",
        "      if X[a,pivot[1]]==1:\n",
        "        the_ones.append(a)\n",
        "    #check if the column below is empty to skip it\n",
        "    if not the_ones:\n",
        "      pivot=[pivot[0],pivot[1]+1]\n",
        "      return X,Z,pivot\n",
        "    else:\n",
        "      X=RowSwap(X,the_ones[0],pivot[0])\n",
        "      Z=RowSwap(Z,the_ones[0],pivot[0])\n",
        "      the_ones.remove(the_ones[0])\n",
        "      for b in the_ones:\n",
        "        X=Add_Rows(X,pivot[0],b)\n",
        "        Z=Add_Rows(Z,pivot[0],b)\n",
        "      pivot=[pivot[0]+1,pivot[1]+1]\n",
        "      return X,Z,pivot\n",
        "    \n",
        "#same as RowRed (echlon form maker) but not recursive. \n",
        "def new_RowRed(X, Z):\n",
        "    x, z = X, Z\n",
        "    pivot = [0, 0]\n",
        "    old_pivot = [1, 1]\n",
        "    n,m = np.shape(X)\n",
        "\n",
        "    while pivot[1] != old_pivot[1]: #all row reduction operations will at least change the column of the pivot by 1 (not true for its row! due to last column pivot)\n",
        "        old_pivot = pivot\n",
        "        x, z, pivot = RowRed_one_step(x, z, pivot)\n",
        "\n",
        "    return x, z, pivot[0]"
      ]
    },
    {
      "cell_type": "code",
      "execution_count": null,
      "metadata": {
        "id": "F6xO0FnT_9HC"
      },
      "outputs": [],
      "source": [
        "from networkx.classes.function import number_of_nodes\n",
        "def Local_comp_graph(G1,i):\n",
        "    n = G1.number_of_nodes()\n",
        "    assert(i < n and i>= 0),\"node index is not in graph\"\n",
        "    z_1=nx.to_numpy_array(G1).astype(int)\n",
        "    I=np.eye(n,n)\n",
        "    Gama=np.zeros((n,n))\n",
        "    Gama[i,i]=1\n",
        "    z_2=(z_1@(Gama@z_1+z_1[i,i]*Gama+I)%2)%2\n",
        "    for j in range(n):\n",
        "      z_2[j,j] = 0\n",
        "    G2=nx.to_networkx_graph(z_2)\n",
        "    plt.figure(1)\n",
        "    nx.draw(G1, with_labels = True)    \n",
        "    plt.figure(2)\n",
        "    nx.draw(G2, with_labels = True)\n",
        "    return(G2)"
      ]
    },
    {
      "cell_type": "code",
      "source": [
        "# R matrix calculator = C * Z + D \n",
        "# each row of Z (the i-th qubit's row) is mulitplied by C_i and D_i is added to the diagonal element Z_ii which is zero by defaul! \n",
        "def R_matrix(z_1, solution):\n",
        "    n=np.shape(z_1)[0]\n",
        "    R = 0 * z_1\n",
        "    for i in range(n):\n",
        "        R[i] = solution[i,1,0] * z_1 [i] # the C*Z part. The element C_ii = solution[i,1,0]\n",
        "        R[i, i] = solution[i,1,1] # the D part. The element C_ii = solution[i,1,1]\n",
        "    return R\n",
        "\n",
        "def apply_f(R, i): # apply f_i on the R matrix\n",
        "    n = np.shape(R)[0]\n",
        "    I = np.eye(n,n)\n",
        "    Gama = np.zeros((n,n))\n",
        "    Gama[i,i] = 1\n",
        "    R = (R@(Gama@R+R[i,i]*Gama+I)%2)%2\n",
        "    return R\n",
        "\n",
        "def singles(R): #checks and applies for single complementation operations needed\n",
        "    n = np.shape(R)[0]\n",
        "    singles_list = []\n",
        "    for i in range(n):\n",
        "        if R[i, i] == 1 and (not np.array_equal(R[i], np.eye(n)[i])):\n",
        "            singles_list.append(i)\n",
        "            R = apply_f(R, i)\n",
        "    return R, singles_list\n",
        "\n",
        "def condition(R): #checks to see if furthur single operations are needed so that we can move to double operations\n",
        "    n = np.shape(R)[0]\n",
        "    cond = False\n",
        "    for i in range(n):\n",
        "        #print(\"ghabls\",cond , \"shart:\", (R[i, i] == 1 and (not (np.array_equal(R[i].astype(int), np.eye(n)[i])))))\n",
        "        cond = cond or (R[i, i] == 1 and (not (np.array_equal(R[i].astype(int), np.eye(n)[i]))))\n",
        "        #print(\"baad\",cond)\n",
        "    return cond\n",
        "\n",
        "def doubles(R):\n",
        "    n = np.shape(R)[0]\n",
        "    doubles_list = []\n",
        "    for j in range(n):\n",
        "        if  not np.array_equal(R[j], np.eye(n)[j]) and R[j, j] == 0:\n",
        "            k_list = []\n",
        "            for k in range(n):\n",
        "                if R[k, j] == 1 : k_list.append(k)\n",
        "            R = apply_f(R, j)\n",
        "            R = apply_f(R, k_list[0])\n",
        "            R = apply_f(R, j)\n",
        "            doubles_list.append((j,k_list[0]))\n",
        "            if (len(k_list) > 1): print(\"len K list more than 1 !\")\n",
        "    return R, doubles_list\n",
        "\n"
      ],
      "metadata": {
        "id": "rH2YtmKPEWqx"
      },
      "execution_count": null,
      "outputs": []
    },
    {
      "cell_type": "code",
      "source": [
        "def LC_graph_operations(z_1, solution):\n",
        "\n",
        "    #takes an adjacancy matrix and the solution (Clifford operation) and returns the list of local complementations needed for graph transformation.  \n",
        "    R = R_matrix(z_1, solution)\n",
        "    n = np.shape(R)[0]\n",
        "    singles_list = []\n",
        "    doubles_list = []\n",
        "    s_list = []\n",
        "    d_list = []\n",
        "    \n",
        "    while condition(R):\n",
        "        R, s_list = singles(R)\n",
        "        singles_list.extend(s_list)\n",
        "        #print(R)\n",
        "\n",
        "    while not np.array_equal(R, np.eye(n)):\n",
        "        R, d_list = doubles(R)\n",
        "        doubles_list.extend(d_list)\n",
        "        #print(R)\n",
        "\n",
        "#    for j in range(n):\n",
        "#        if  not np.array_equal(R[j], np.eye(n)[j]) and R[j, j] == 0:\n",
        "#            k_list = []\n",
        "#            for k in range(n):\n",
        "#                if R[k, j] == 1 : k_list.append(k)\n",
        "#            R = apply_f(R, j)\n",
        "#            R = apply_f(R, k_list[0])\n",
        "#            R = apply_f(R, j)\n",
        "#            doubles_list.append((j,k_list[0]))\n",
        "#            if (len(k_list) > 1): print(\"len K list more than 1 !\")\n",
        "\n",
        "\n",
        "    #print('singles_list,doubles_list',singles_list,doubles_list)\n",
        "    g_list = singles_list\n",
        "    for i in doubles_list:\n",
        "        g_list.append(i[0])\n",
        "        g_list.append(i[1])\n",
        "        g_list.append(i[0])\n",
        "    return g_list"
      ],
      "metadata": {
        "id": "xox82ACii1Zg"
      },
      "execution_count": null,
      "outputs": []
    },
    {
      "cell_type": "code",
      "source": [
        "#takes a graph G as an input\n",
        "#returns the list of all possible isomorph graphs with different labeling permutaitons \n",
        "def iso_graph_finder(G):\n",
        "\n",
        "    map_dict_list = []\n",
        "    iso_graphs = []\n",
        "    list_nodes = sorted(G)\n",
        "    n = len(list_nodes)\n",
        "    permu = list(permutations(list_nodes, len(list_nodes)))\n",
        "\n",
        "    for x in permu:\n",
        "        adj_matrix = np.zeros((n,n))\n",
        "        map_dict = dict(zip(list_nodes, x))\n",
        "        G_copy = nx.relabel_nodes(G, map_dict, copy=True)\n",
        "        for y in list_nodes:\n",
        "            for z in list(G_copy.neighbors(y)):\n",
        "                adj_matrix[y,z] = 1\n",
        "\n",
        "        G_copy = nx.to_networkx_graph(adj_matrix)\n",
        "        iso_graphs.append(G_copy)\n",
        "\n",
        "    return iso_graphs"
      ],
      "metadata": {
        "id": "VnjIkBSDlBWS"
      },
      "execution_count": null,
      "outputs": []
    },
    {
      "cell_type": "code",
      "source": [
        "# check to see if G1 is equivalent to any of the graph that are isomorph to G2\n",
        "# returns the tuple (True, the isomorph of G2 that is equivalent to G1) if it exist, if not returns the tuple (False, G1) \n",
        "def iso_equal_check(G1, G2):\n",
        "    iso_graphs_G2 = iso_graph_finder(G2)\n",
        "    z_1 = nx.to_numpy_array(G1)\n",
        "    iso_z_2 = [nx.to_numpy_array(G) for G in iso_graphs_G2]\n",
        "    for x in iso_z_2:\n",
        "        solution=solver(z_1, x)\n",
        "        if isinstance(solution,type(np.array([0]))):\n",
        "            return (True ,nx.to_networkx_graph(x))\n",
        "        else: \n",
        "            clear_output(wait=True)\n",
        "    return (False, G1)"
      ],
      "metadata": {
        "id": "ACP6Kxs81qMh"
      },
      "execution_count": null,
      "outputs": []
    },
    {
      "cell_type": "code",
      "source": [
        "#%%time\n",
        "#initialize random graphs for test. n is the number of qubits/ vertices\n",
        "n=int(5)\n",
        "row=0\n",
        "G1, G2 = nx.fast_gnp_random_graph(n,0.75), nx.fast_gnp_random_graph(n,0.65)\n",
        "#G1=nx.complete_graph(n)\n",
        "#G2=nx.star_graph(n-1)\n",
        "\n",
        "#if nx.is_connected(G1) and nx.is_connected(G2):\n",
        "z_1=nx.to_numpy_array(G1).astype(int)\n",
        "z_2=nx.to_numpy_array(G2).astype(int)\n",
        "#else:\n",
        "    #raise ValueError('graphs are not connected')  \n",
        "\n",
        "#takes two adjacency matrices z_1 and z_2 and checks for LC \n",
        "#if we got stabilizer states, first turn them to graph and then use this function for their adjacency matrices to check for LC\n",
        "solution=solver(z_1, z_2, Mode='random')\n",
        "#z_2 == clifford_transform(z_1)\n",
        "\n",
        "plt.figure(1)\n",
        "nx.draw(G1, with_labels = True)    \n",
        "plt.figure(2)\n",
        "nx.draw(G2, with_labels = True)  \n",
        "\n",
        "#condition to see if solution if found\n",
        "if isinstance(solution,type(np.array([0]))):\n",
        "    print(Local_Clifford_ops(solution),\"\\n\")\n",
        "iso_equal_check(G1, G2)"
      ],
      "metadata": {
        "id": "eztVZwVZ4plh",
        "colab": {
          "base_uri": "https://localhost:8080/",
          "height": 638
        },
        "outputId": "bad768fd-1aee-4603-9abb-7a60c777aa98"
      },
      "execution_count": null,
      "outputs": [
        {
          "output_type": "execute_result",
          "data": {
            "text/plain": [
              "(False, <networkx.classes.graph.Graph at 0x7f14637889d0>)"
            ]
          },
          "metadata": {},
          "execution_count": 15
        },
        {
          "output_type": "display_data",
          "data": {
            "text/plain": [
              "<Figure size 432x288 with 1 Axes>"
            ],
            "image/png": "[encoded data removed]"
          },
          "metadata": {}
        },
        {
          "output_type": "display_data",
          "data": {
            "text/plain": [
              "<Figure size 432x288 with 1 Axes>"
            ],
            "image/png": "[encoded data removed]"
          },
          "metadata": {}
        }
      ]
    },
    {
      "cell_type": "code",
      "source": [
        "solution, (G1, G2) = tester(6)\n",
        "z_1=nx.to_numpy_array(G1).astype(int)\n",
        "z_2=nx.to_numpy_array(G2).astype(int)"
      ],
      "metadata": {
        "id": "P7sSA0674tGB",
        "colab": {
          "base_uri": "https://localhost:8080/",
          "height": 708
        },
        "outputId": "03723a0d-e0d3-44de-c5a0-08999908b102"
      },
      "execution_count": null,
      "outputs": [
        {
          "output_type": "stream",
          "name": "stdout",
          "text": [
            "full rank 2 solution basis: True\n",
            "solution found! \n",
            "\n",
            "['PHP', 'I', 'P', 'PHP', 'I', 'I'] \n",
            "\n"
          ]
        },
        {
          "output_type": "display_data",
          "data": {
            "text/plain": [
              "<Figure size 432x288 with 1 Axes>"
            ],
            "image/png": "[encoded data removed]"
          },
          "metadata": {}
        },
        {
          "output_type": "display_data",
          "data": {
            "text/plain": [
              "<Figure size 432x288 with 1 Axes>"
            ],
            "image/png": "[encoded data removed]"
          },
          "metadata": {}
        }
      ]
    },
    {
      "cell_type": "code",
      "source": [
        "g_list=LC_graph_operations(z_1, solution)\n",
        "print(\"LC operations needed on nodes:\",g_list)\n",
        "G_new = G1\n",
        "for i in g_list:\n",
        "    G_new = Local_comp_graph(G_new,i)\n",
        "    \n",
        "z_new = nx.to_numpy_array(G_new)\n",
        "z_2=nx.to_numpy_array(G2).astype(int)\n",
        "print(nx.is_isomorphic(G_new, G2))\n",
        "print(np.array_equal(z_new, z_2))"
      ],
      "metadata": {
        "id": "Q6xm0dC35fl_",
        "colab": {
          "base_uri": "https://localhost:8080/",
          "height": 673
        },
        "outputId": "fd083b55-985a-4d1e-f54e-4183d4f6c11f"
      },
      "execution_count": null,
      "outputs": [
        {
          "output_type": "stream",
          "name": "stdout",
          "text": [
            "LC operations needed on nodes: [0, 3]\n",
            "True\n",
            "True\n"
          ]
        },
        {
          "output_type": "display_data",
          "data": {
            "text/plain": [
              "<Figure size 432x288 with 1 Axes>"
            ],
            "image/png": "[encoded data removed]"
          },
          "metadata": {}
        },
        {
          "output_type": "display_data",
          "data": {
            "text/plain": [
              "<Figure size 432x288 with 1 Axes>"
            ],
            "image/png": "[encoded data removed]"
          },
          "metadata": {}
        }
      ]
    },
    {
      "cell_type": "code",
      "source": [
        "nx.draw(G2, with_labels = True)\n",
        "print(nx.is_isomorphic(G_new, G2))"
      ],
      "metadata": {
        "id": "C8tfkSrujZ5N",
        "colab": {
          "base_uri": "https://localhost:8080/",
          "height": 336
        },
        "outputId": "8465d3fc-8feb-4561-c749-61bd8a79e786"
      },
      "execution_count": null,
      "outputs": [
        {
          "output_type": "stream",
          "name": "stdout",
          "text": [
            "True\n"
          ]
        },
        {
          "output_type": "display_data",
          "data": {
            "text/plain": [
              "<Figure size 432x288 with 1 Axes>"
            ],
            "image/png": "[encoded data removed]"
          },
          "metadata": {}
        }
      ]
    },
    {
      "cell_type": "code",
      "source": [
        "z_1 = np.array([[0,0,1,0,0,0,0,0,0],\n",
        "  [0,0,1,0,0,0,0,0,0],\n",
        "  [1,1,0,1,0,0,0,0,0],\n",
        "  [0,0,1,0,1,1,1,0,0],  \n",
        "  [0,0,0,1,0,0,0,0,0],\n",
        "  [0,0,0,1,0,0,0,0,0],\n",
        "  [0,0,0,1,0,0,0,1,1],\n",
        "  [0,0,0,0,0,0,1,0,0],\n",
        "  [0,0,0,0,0,0,1,0,0]])\n",
        "\n",
        "z_1_1 = z_1[0:6,0:6]\n",
        "print(z_1_1)\n",
        "\n",
        "assert (np.array_equal(z_1, z_1.T))\n",
        "position_list = [(1, 3), (1, 1), (1, 2), (2, 2), (2, 3), (2, 1), (3, 2), (3, 3), (3, 1)]\n",
        "pos = dict(zip([*range(9)], position_list))\n",
        "G1= nx.to_networkx_graph(z_1_1)\n",
        "nx.draw(G1, with_labels = True, pos = pos)"
      ],
      "metadata": {
        "colab": {
          "base_uri": "https://localhost:8080/",
          "height": 423
        },
        "id": "Jb0NWtrHvubX",
        "outputId": "8027be2c-3873-4e6d-8324-274dfcc871d0"
      },
      "execution_count": null,
      "outputs": [
        {
          "output_type": "stream",
          "name": "stdout",
          "text": [
            "[[0 0 1 0 0 0]\n",
            " [0 0 1 0 0 0]\n",
            " [1 1 0 1 0 0]\n",
            " [0 0 1 0 1 1]\n",
            " [0 0 0 1 0 0]\n",
            " [0 0 0 1 0 0]]\n"
          ]
        },
        {
          "output_type": "display_data",
          "data": {
            "text/plain": [
              "<Figure size 432x288 with 1 Axes>"
            ],
            "image/png": "[encoded data removed]"
          },
          "metadata": {}
        }
      ]
    },
    {
      "cell_type": "code",
      "source": [
        "z_2 = np.array([[0,0,0,1,1,1,0,0,0],\n",
        "  [0,0,0,1,1,1,0,0,0],\n",
        "  [0,0,0,1,1,1,0,0,0],\n",
        "  [1,1,1,0,0,0,1,1,1],  \n",
        "  [1,1,1,0,0,0,1,1,1],\n",
        "  [1,1,1,0,0,0,1,1,1], \n",
        "  [0,0,0,1,1,1,0,0,0],\n",
        "  [0,0,0,1,1,1,0,0,0],\n",
        "  [0,0,0,1,1,1,0,0,0]])\n",
        "assert (np.array_equal(z_2, z_2.T))\n",
        "z_2_2 = z_2[0:6, 0:6]\n",
        "print(z_2_2)\n",
        "position_list = [(1, 3), (1, 2), (1, 1), (2, 3), (2, 2), (2, 1), (3, 3), (3, 2), (3, 1)]\n",
        "pos = dict(zip([*range(9)], position_list))\n",
        "G2 = nx.to_networkx_graph(z_2_2)\n",
        "nx.draw(G2, with_labels = True, pos = pos)"
      ],
      "metadata": {
        "colab": {
          "base_uri": "https://localhost:8080/",
          "height": 423
        },
        "id": "nrt17iLhwueA",
        "outputId": "d718395e-36f5-43cc-ce35-42b1a779d342"
      },
      "execution_count": null,
      "outputs": [
        {
          "output_type": "stream",
          "name": "stdout",
          "text": [
            "[[0 0 0 1 1 1]\n",
            " [0 0 0 1 1 1]\n",
            " [0 0 0 1 1 1]\n",
            " [1 1 1 0 0 0]\n",
            " [1 1 1 0 0 0]\n",
            " [1 1 1 0 0 0]]\n"
          ]
        },
        {
          "output_type": "display_data",
          "data": {
            "text/plain": [
              "<Figure size 432x288 with 1 Axes>"
            ],
            "image/png": "[encoded data removed]"
          },
          "metadata": {}
        }
      ]
    },
    {
      "cell_type": "code",
      "source": [
        "q = solver(z_1_1, z_2_2)\n",
        "LC_graph_operations(z_1_1, q)"
      ],
      "metadata": {
        "colab": {
          "base_uri": "https://localhost:8080/"
        },
        "id": "-t5rwSFq2LCL",
        "outputId": "c9274fb8-eae9-465b-dddf-c562b9f82c4e"
      },
      "execution_count": null,
      "outputs": [
        {
          "output_type": "stream",
          "name": "stdout",
          "text": [
            "full rank 6 solution basis: True\n",
            "solution found! \n",
            "\n"
          ]
        },
        {
          "output_type": "execute_result",
          "data": {
            "text/plain": [
              "[2, 3, 2]"
            ]
          },
          "metadata": {},
          "execution_count": 21
        }
      ]
    },
    {
      "cell_type": "code",
      "source": [
        "G = nx.to_networkx_graph(z_1)\n",
        "def edge_list_finder(G):\n",
        "    if isinstance(G, nx.classes.graph.Graph): \n",
        "        pass\n",
        "    if isinstance(G, np.ndarray):\n",
        "        G = nx.to_networkx_graph(G)\n",
        "    edge_list1 = []\n",
        "    nx.write_edgelist(G, \"test.edgelist.txt\")\n",
        "    for line in nx.generate_edgelist(G, data=False):\n",
        "         a = (line[0],', ',line[2],'; ')\n",
        "         edge_list1.append(''.join(list(a)))\n",
        "    b = ''.join(edge_list1)\n",
        "    b = b[:-2] #delete the last semicolon\n",
        "    return b\n",
        "\n",
        "edge_list_finder(G)"
      ],
      "metadata": {
        "colab": {
          "base_uri": "https://localhost:8080/",
          "height": 35
        },
        "id": "yhsQJH4uMHwu",
        "outputId": "1d0633a9-ead4-4603-adbf-a926aca1011b"
      },
      "execution_count": null,
      "outputs": [
        {
          "output_type": "execute_result",
          "data": {
            "text/plain": [
              "'0, 2; 1, 2; 2, 3; 3, 4; 3, 5; 3, 6; 6, 7; 6, 8'"
            ],
            "application/vnd.google.colaboratory.intrinsic+json": {
              "type": "string"
            }
          },
          "metadata": {},
          "execution_count": 58
        }
      ]
    },
    {
      "cell_type": "code",
      "source": [
        "b= [1,2,3]\n",
        "b = b[:-1]\n",
        "b"
      ],
      "metadata": {
        "colab": {
          "base_uri": "https://localhost:8080/"
        },
        "id": "cDaImYzpEjTc",
        "outputId": "1b4754c4-1d53-4e2b-8f86-bd795142c674"
      },
      "execution_count": null,
      "outputs": [
        {
          "output_type": "execute_result",
          "data": {
            "text/plain": [
              "[1, 2]"
            ]
          },
          "metadata": {},
          "execution_count": 57
        }
      ]
    }
  ],
  "metadata": {
    "colab": {
      "collapsed_sections": [],
      "name": "LC equivalence.ipynb",
      "provenance": [],
      "authorship_tag": "ABX9TyPzk3f/FTeC+E4VlDPb5ow2",
      "include_colab_link": true
    },
    "kernelspec": {
      "display_name": "Python 3",
      "name": "python3"
    },
    "language_info": {
      "name": "python"
    }
  },
  "nbformat": 4,
  "nbformat_minor": 0
}