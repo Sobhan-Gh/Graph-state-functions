{
  "nbformat": 4,
  "nbformat_minor": 0,
  "metadata": {
    "colab": {
      "name": "row_reduced_echelon_form.ipynb",
      "provenance": [],
      "collapsed_sections": [],
      "authorship_tag": "ABX9TyMFscbHOvc5vfGlqgDqCYtG",
      "include_colab_link": true
    },
    "kernelspec": {
      "name": "python3",
      "display_name": "Python 3"
    },
    "language_info": {
      "name": "python"
    }
  },
  "cells": [
    {
      "cell_type": "markdown",
      "metadata": {
        "id": "view-in-github",
        "colab_type": "text"
      },
      "source": [
        "<a href=\"https://colab.research.google.com/github/Sobhan-Gh/Graph-state-functions/blob/main/row_reduced_echelon_form.ipynb\" target=\"_parent\"><img src=\"https://colab.research.google.com/assets/colab-badge.svg\" alt=\"Open In Colab\"/></a>"
      ]
    },
    {
      "cell_type": "code",
      "execution_count": 1,
      "metadata": {
        "id": "iKMlemcdG5gv"
      },
      "outputs": [],
      "source": [
        "import numpy as np\n",
        "import networkx as nx\n",
        "import matplotlib.pyplot as plt"
      ]
    },
    {
      "cell_type": "code",
      "source": [
        "# sum initialization for test (complete graph)\n",
        "n = 5\n",
        "x = np.eye(n)\n",
        "z = np.ones([n, n]) - np.eye(n)\n",
        "r = np.zeros([n,1]) #phase: r_i = 1 if the i-th generator has negative phase and 0 otherwise. "
      ],
      "metadata": {
        "id": "ONwtOYSOHc4J"
      },
      "execution_count": 2,
      "outputs": []
    },
    {
      "cell_type": "code",
      "source": [
        "# import from .../src/backends/stabilizer/functions.py\n",
        "def row_swap(input_matrix, first_row, second_row):\n",
        "\n",
        "    input_matrix[[first_row, second_row]] = input_matrix[[second_row, first_row]]\n",
        "    return input_matrix\n",
        "\n",
        "\n",
        "def add_rows(input_matrix, row_to_add, resulting_row):\n",
        "\n",
        "    input_matrix[resulting_row] = (input_matrix[row_to_add] + input_matrix[resulting_row]) % 2\n",
        "    return input_matrix\n",
        "\n",
        "def symplectic_to_string(x_matrix, z_matrix):\n",
        "    \"\"\"\n",
        "    Convert a binary symplectic representation to a list of strings\n",
        "    :param x_matrix: X part of the binary symplectic representation\n",
        "    :param z_matrix: Z part of the binary symplectic representation\n",
        "    :return: a list of strings that represent stabilizer generators\n",
        "    :rtype: list[str]\n",
        "    \"\"\"\n",
        "    assert x_matrix.shape == z_matrix.shape\n",
        "    n_row, n_column = x_matrix.shape\n",
        "    generator_list = []\n",
        "    for i in range(n_row):\n",
        "        generator = ''\n",
        "        for j in range(n_column):\n",
        "            if x_matrix[i, j] == 1 and z_matrix[i, j] == 0:\n",
        "                generator = generator + 'X'\n",
        "            elif x_matrix[i, j] == 1 and z_matrix[i, j] == 1:\n",
        "                generator = generator + 'Y'\n",
        "            elif x_matrix[i, j] == 0 and z_matrix[i, j] == 1:\n",
        "                generator = generator + 'Z'\n",
        "            else:\n",
        "                generator = generator + 'I'\n",
        "        generator_list.append(generator)\n",
        "    return generator_list"
      ],
      "metadata": {
        "id": "jcwrDhwJRFoI"
      },
      "execution_count": 3,
      "outputs": []
    },
    {
      "cell_type": "code",
      "source": [
        "def g_function(x_1, z_1, x_2, z_2): #refer to section III of arXiv:quant-ph/0406196v5\n",
        "    ''' a helper function to use in rowsum function. \n",
        "    takse 4 bit (2 pauli matrices in binary representation) as input and returns\n",
        "    the phase factor needed when the two Pauli matrices are multiplied.'''  \n",
        "    if not (x_1 or z_1): #both equal to zero\n",
        "        return 0\n",
        "    if x_1 and z_1:\n",
        "        return (z_2 - x_2)%4\n",
        "    if x_1 == 1 and z_1 == 0:\n",
        "        return (z_2*(2*x_2-1))%4\n",
        "    if x_1 == 0 and z_1 == 1:\n",
        "        return (x_2*(1-2*z_2))%4    "
      ],
      "metadata": {
        "id": "-8GV-kNxJbyP"
      },
      "execution_count": 4,
      "outputs": []
    },
    {
      "cell_type": "code",
      "source": [
        "def rowsum(x_matrix, z_matrix, r_vector, i, h): #refer to section III of arXiv:quant-ph/0406196v5\n",
        "    '''takes the full stabilizer tableau as input and sets the generator in row h\n",
        "      equal to i+h and also keeps track of the phase'''\n",
        "    n = np.shape(x_matrix)[0]\n",
        "    # determining the phase factor\n",
        "    g_sum = 0 \n",
        "    for j in range(n):\n",
        "        g_sum = g_sum + g_function(x_matrix[i, j], z_matrix[i, j], x_matrix[h, j], z_matrix[h, j])\n",
        "    if (2*r_vector[h, 0] + 2*r_vector[i, 0] + g_sum)%4 == 0:\n",
        "        r_vector[h, 0] = 0 \n",
        "    elif (2*r_vector[h, 0] + 2*r_vector[i, 0] + g_sum)%4 == 2:\n",
        "        r_vector[h, 0] = 1\n",
        "    else:\n",
        "        raise Exception('input cannot be valid, due to unexpected outcome')\n",
        "    \n",
        "    #calculating the resulting new matrices after adding row i to h. \n",
        "    x_matrix = add_rows(x_matrix, i, h)\n",
        "    z_matrix = add_rows(z_matrix, i, h)\n",
        "\n",
        "    return x_matrix, z_matrix, r_vector"
      ],
      "metadata": {
        "id": "T07THlSNHRKS"
      },
      "execution_count": 5,
      "outputs": []
    },
    {
      "cell_type": "code",
      "source": [
        "def rowswap(x_matrix, z_matrix, r_vector, first_row, second_row):\n",
        "    x_matrix = row_swap(x_matrix, first_row, second_row)\n",
        "    z_matrix = row_swap(z_matrix, first_row, second_row)\n",
        "    r_vector = row_swap(r_vector, first_row, second_row)\n",
        "    return x_matrix, z_matrix, r_vector"
      ],
      "metadata": {
        "id": "SPeDYblpMOVa"
      },
      "execution_count": 6,
      "outputs": []
    },
    {
      "cell_type": "code",
      "source": [
        "def pauli_type_finder(x_matrix, z_matrix, pivot):\n",
        "    '''a function that counts the types and the number of the pauli operators \n",
        "    acting on a pivot qubit (the pivot column in the stabilizer tableau) over \n",
        "    generators (rows) below the pivot element in the tableau'''\n",
        "    number_of_qubits = np.shape(x_matrix)[0]\n",
        "    pauli_x_list = [] #list of the rows (generators) with a pauli X operator in the pivot column\n",
        "    pauli_y_list = [] #list of the rows (generators) with a pauli Y operator in the pivot column\n",
        "    pauli_z_list = [] #list of the rows (generators) with a pauli Z operator in the pivot column\n",
        "\n",
        "    for i in range(pivot[0], number_of_qubits):\n",
        "        if x_matrix[i, pivot[1]] == 1 and z_matrix[i, pivot[1]] == 0:\n",
        "            pauli_x_list.append(i)\n",
        "        if x_matrix[i, pivot[1]] == 1 and z_matrix[i, pivot[1]] == 1:\n",
        "            pauli_y_list.append(i)\n",
        "        if x_matrix[i, pivot[1]] == 0 and z_matrix[i, pivot[1]] == 1:\n",
        "            pauli_z_list.append(i)\n",
        "\n",
        "    return pauli_x_list, pauli_y_list, pauli_z_list"
      ],
      "metadata": {
        "id": "hNTmEb6PVFZo"
      },
      "execution_count": 7,
      "outputs": []
    },
    {
      "cell_type": "code",
      "source": [
        "def one_step_rref(x_matrix, z_matrix, r_vector, pivot): #ROW-REDUCED ECHELON FORM algorithm\n",
        "    \n",
        "    #pivot = [0, 0] #remove later! it is in the arguments\n",
        "\n",
        "    #pauli_x_list = [] = list of the rows (generators) with a pauli X operator in the pivot column\n",
        "    #pauli_y_list = [] = list of the rows (generators) with a pauli Y operator in the pivot column\n",
        "    #pauli_z_list = [] = list of the rows (generators) with a pauli Z operator in the pivot column\n",
        "    pauli_x_list, pauli_y_list, pauli_z_list = pauli_type_finder(x_matrix, z_matrix, pivot)\n",
        "\n",
        "    #case of no pauli operator!\n",
        "    if not (pauli_x_list or pauli_y_list or pauli_z_list):\n",
        "        pivot = [pivot[0], pivot[1] + 1]\n",
        "        return x_matrix, z_matrix, r_vector, pivot\n",
        "    # case of only 1 kind of puali \n",
        "    elif pauli_x_list and (not pauli_y_list) and (not pauli_z_list): #only X\n",
        "        x_matrix, z_matrix, r_vector = rowswap(x_matrix, z_matrix, r_vector, pivot[0], pauli_x_list[0]) #swap the pivot row with it\n",
        "\n",
        "        pauli_x_list = pauli_x_list[1:] #remove the first element of the list\n",
        "\n",
        "        for row_i in pauli_x_list: \n",
        "            x_matrix, z_matrix, r_vector = rowsum(x_matrix, z_matrix, r_vector, pivot[0], row_i) #multiplying rows with similar pauli to eleminate them\n",
        "\n",
        "        pivot = [pivot[0] + 1, pivot[1] + 1]\n",
        "        return x_matrix, z_matrix, r_vector, pivot\n",
        "\n",
        "    elif pauli_y_list and (not pauli_x_list) and (not pauli_z_list): #only Y\n",
        "        x_matrix, z_matrix, r_vector = rowswap(x_matrix, z_matrix, r_vector, pivot[0], pauli_y_list[0]) #swap the pivot row with it\n",
        "\n",
        "        pauli_y_list = pauli_y_list[1:] #remove the first element of the list\n",
        "\n",
        "        for row_i in pauli_y_list: \n",
        "            x_matrix, z_matrix, r_vector = rowsum(x_matrix, z_matrix, r_vector, pivot[0], row_i) #multiplying rows with similar pauli to eleminate them\n",
        "\n",
        "        pivot = [pivot[0] + 1, pivot[1] + 1]\n",
        "        return x_matrix, z_matrix, r_vector, pivot\n",
        "\n",
        "    elif pauli_z_list and (not pauli_x_list) and (not pauli_y_list): #only Z\n",
        "        x_matrix, z_matrix, r_vector = rowswap(x_matrix, z_matrix, r_vector, pivot[0], pauli_z_list[0]) #swap the pivot row with it\n",
        "\n",
        "        pauli_z_list = pauli_z_list[1:] #remove the first element of the list\n",
        "\n",
        "        for row_i in pauli_z_list: \n",
        "            x_matrix, z_matrix, r_vector = rowsum(x_matrix, z_matrix, r_vector, pivot[0], row_i) #multiplying rows with similar pauli to eleminate them\n",
        "\n",
        "        pivot = [pivot[0] + 1, pivot[1] + 1]\n",
        "        return x_matrix, z_matrix, r_vector, pivot\n",
        "    #case of two kinds of pauli \n",
        "    elif not pauli_x_list: #pauli y and z exist in the column below pivot\n",
        "        x_matrix, z_matrix, r_vector = rowswap(x_matrix, z_matrix, r_vector, pivot[0], pauli_y_list[0]) #swap the pivot and its next row with them\n",
        "        pauli_x_list, pauli_y_list, pauli_z_list = pauli_type_finder(x_matrix, z_matrix, pivot) #update pauli lists\n",
        "        x_matrix, z_matrix, r_vector = rowswap(x_matrix, z_matrix, r_vector, pivot[0]+1, pauli_z_list[0])\n",
        "        pauli_x_list, pauli_y_list, pauli_z_list = pauli_type_finder(x_matrix, z_matrix, pivot) #update pauli lists\n",
        "\n",
        "        assert pauli_y_list[0] == pivot[0] and pauli_z_list[0] == pivot[0]+1, \"row operations failed\" \n",
        "\n",
        "        pauli_y_list = pauli_y_list[1:] #remove the first element of the list\n",
        "        pauli_z_list = pauli_z_list[1:] #remove the first element of the list\n",
        "\n",
        "        for row_i in pauli_y_list: \n",
        "            x_matrix, z_matrix, r_vector = rowsum(x_matrix, z_matrix, r_vector, pivot[0], row_i) #multiplying rows with similar pauli to eleminate them\n",
        "\n",
        "        for row_j in pauli_z_list: \n",
        "            x_matrix, z_matrix, r_vector = rowsum(x_matrix, z_matrix, r_vector, pivot[0]+1, row_j) #multiplying rows with similar pauli to eleminate them\n",
        "        \n",
        "        pivot = [pivot[0] + 2, pivot[1] + 1]\n",
        "        return x_matrix, z_matrix, r_vector, pivot\n",
        "\n",
        "    elif not pauli_y_list: #pauli x and z exist in the column below pivot\n",
        "        x_matrix, z_matrix, r_vector = rowswap(x_matrix, z_matrix, r_vector, pivot[0], pauli_x_list[0]) #swap the pivot and its next row with them\n",
        "        pauli_x_list, pauli_y_list, pauli_z_list = pauli_type_finder(x_matrix, z_matrix, pivot) #update pauli lists\n",
        "        x_matrix, z_matrix, r_vector = rowswap(x_matrix, z_matrix, r_vector, pivot[0]+1, pauli_z_list[0])\n",
        "        pauli_x_list, pauli_y_list, pauli_z_list = pauli_type_finder(x_matrix, z_matrix, pivot) #update pauli lists\n",
        "\n",
        "        assert pauli_x_list[0] == pivot[0] and pauli_z_list[0] == pivot[0]+1, \"row operations failed\" \n",
        "\n",
        "        pauli_x_list = pauli_x_list[1:] #remove the first element of the list\n",
        "        pauli_z_list = pauli_z_list[1:] #remove the first element of the list\n",
        "        \n",
        "        for row_i in pauli_x_list: \n",
        "            x_matrix, z_matrix, r_vector = rowsum(x_matrix, z_matrix, r_vector, pivot[0], row_i) #multiplying rows with similar pauli to eleminate them\n",
        "\n",
        "        for row_j in pauli_z_list: \n",
        "            #print(row_j)\n",
        "            x_matrix, z_matrix, r_vector = rowsum(x_matrix, z_matrix, r_vector, pivot[0]+1, row_j) #multiplying rows with similar pauli to eleminate them\n",
        "        \n",
        "        pivot = [pivot[0] + 2, pivot[1] + 1]\n",
        "        return x_matrix, z_matrix, r_vector, pivot\n",
        "      \n",
        "    elif not pauli_z_list: #pauli x and y exist in the column below pivot\n",
        "        x_matrix, z_matrix, r_vector = rowswap(x_matrix, z_matrix, r_vector, pivot[0], pauli_x_list[0]) #swap the pivot and its next row with them\n",
        "        pauli_x_list, pauli_y_list, pauli_z_list = pauli_type_finder(x_matrix, z_matrix, pivot) #update pauli lists\n",
        "        x_matrix, z_matrix, r_vector = rowswap(x_matrix, z_matrix, r_vector, pivot[0]+1, pauli_y_list[0])\n",
        "        pauli_x_list, pauli_y_list, pauli_z_list = pauli_type_finder(x_matrix, z_matrix, pivot) #update pauli lists\n",
        "\n",
        "        assert pauli_x_list[0] == pivot[0] and pauli_y_list[0] == pivot[0]+1, \"row operations failed\" \n",
        "\n",
        "        pauli_x_list = pauli_x_list[1:] #remove the first element of the list\n",
        "        pauli_y_list = pauli_y_list[1:] #remove the first element of the list\n",
        "\n",
        "        for row_i in pauli_x_list: \n",
        "            x_matrix, z_matrix, r_vector = rowsum(x_matrix, z_matrix, r_vector, pivot[0], row_i) #multiplying rows with similar pauli to eleminate them\n",
        "\n",
        "        for row_j in pauli_y_list: \n",
        "            x_matrix, z_matrix, r_vector = rowsum(x_matrix, z_matrix, r_vector, pivot[0]+1, row_j) #multiplying rows with similar pauli to eleminate them\n",
        "        \n",
        "        pivot = [pivot[0] + 2, pivot[1] + 1]\n",
        "        return x_matrix, z_matrix, r_vector, pivot\n",
        "\n",
        "    #case of all three kinds of paulis available in the column\n",
        "    else:\n",
        "        x_matrix, z_matrix, r_vector = rowswap(x_matrix, z_matrix, r_vector, pivot[0], pauli_x_list[0]) #swap the pivot and its next row with the first X and Z rows\n",
        "        pauli_x_list, pauli_y_list, pauli_z_list = pauli_type_finder(x_matrix, z_matrix, pivot) #update pauli lists\n",
        "        x_matrix, z_matrix, r_vector = rowswap(x_matrix, z_matrix, r_vector, pivot[0]+1, pauli_z_list[0])\n",
        "        pauli_x_list, pauli_y_list, pauli_z_list = pauli_type_finder(x_matrix, z_matrix, pivot) #update pauli lists\n",
        "        \n",
        "        assert pauli_x_list[0] == pivot[0] and pauli_z_list[0] == pivot[0]+1, \"row operations failed\" \n",
        "\n",
        "        pauli_x_list = pauli_x_list[1:] #remove the first element of the list\n",
        "        pauli_z_list = pauli_z_list[1:] #remove the first element of the list\n",
        "\n",
        "        for row_i in pauli_x_list: \n",
        "            x_matrix, z_matrix, r_vector = rowsum(x_matrix, z_matrix, r_vector, pivot[0], row_i) #multiplying rows with similar pauli to eleminate them\n",
        "\n",
        "        for row_j in pauli_z_list: \n",
        "            x_matrix, z_matrix, r_vector = rowsum(x_matrix, z_matrix, r_vector, pivot[0]+1, row_j) #multiplying rows with similar pauli to eleminate them\n",
        "        \n",
        "        for row_k in pauli_y_list: \n",
        "            x_matrix, z_matrix, r_vector = rowsum(x_matrix, z_matrix, r_vector, pivot[0], row_k) #multiplying the pauli Y with pauli X to make it Z \n",
        "            x_matrix, z_matrix, r_vector = rowsum(x_matrix, z_matrix, r_vector, pivot[0]+1, row_k) #multiplying the now Z row with another Z to eleminate it\n",
        "        pivot = [pivot[0] + 2, pivot[1] + 1]\n",
        "        return x_matrix, z_matrix, r_vector, pivot\n"
      ],
      "metadata": {
        "id": "siyo5q5vPRqI"
      },
      "execution_count": 8,
      "outputs": []
    },
    {
      "cell_type": "code",
      "source": [
        "def rref(x_matrix, z_matrix, r_vector):\n",
        "    pivot = [0, 0]\n",
        "    number_of_qubits = np.shape(x_matrix)[0]\n",
        "    while pivot[0] <= number_of_qubits-1 and pivot[1] <= number_of_qubits-1:\n",
        "        x_matrix, z_matrix, r_vector, pivot = one_step_rref(x_matrix, z_matrix, r_vector, pivot)\n",
        "    return x_matrix, z_matrix, r_vector"
      ],
      "metadata": {
        "id": "OkYM0qAOgViH"
      },
      "execution_count": 9,
      "outputs": []
    },
    {
      "cell_type": "code",
      "source": [
        "rref(x, z, r)"
      ],
      "metadata": {
        "colab": {
          "base_uri": "https://localhost:8080/"
        },
        "id": "tJlKveG_bj5O",
        "outputId": "d5b87e03-8d5c-4495-d628-f9e4994cd6ca"
      },
      "execution_count": 11,
      "outputs": [
        {
          "output_type": "execute_result",
          "data": {
            "text/plain": [
              "(array([[1., 0., 0., 0., 0.],\n",
              "        [0., 1., 0., 0., 0.],\n",
              "        [0., 1., 1., 0., 0.],\n",
              "        [0., 0., 1., 1., 0.],\n",
              "        [0., 0., 0., 1., 1.]]), array([[0., 1., 1., 1., 1.],\n",
              "        [1., 0., 1., 1., 1.],\n",
              "        [0., 1., 1., 0., 0.],\n",
              "        [0., 0., 1., 1., 0.],\n",
              "        [0., 0., 0., 1., 1.]]), array([[0.],\n",
              "        [0.],\n",
              "        [0.],\n",
              "        [0.],\n",
              "        [0.]]))"
            ]
          },
          "metadata": {},
          "execution_count": 11
        }
      ]
    },
    {
      "cell_type": "code",
      "source": [
        "pauli_type_finder(x,z,[0,4])"
      ],
      "metadata": {
        "colab": {
          "base_uri": "https://localhost:8080/"
        },
        "id": "SJgBc9tcc80_",
        "outputId": "999d81a6-6e65-459e-d602-aa792ccbc720"
      },
      "execution_count": 12,
      "outputs": [
        {
          "output_type": "execute_result",
          "data": {
            "text/plain": [
              "([], [4], [0, 1])"
            ]
          },
          "metadata": {},
          "execution_count": 12
        }
      ]
    },
    {
      "cell_type": "code",
      "source": [
        "def height_function(x_matrix, z_matrix, qubit_position):\n",
        "    number_of_qubits = np.shape(x_matrix)[0]\n",
        "    r_vector = np.zeros([number_of_qubits,1])\n",
        "    non_trivial_generators = 0\n",
        "    height = 0\n",
        "\n",
        "    x_matrix, z_matrix, r_vector = rref(x_matrix, z_matrix, r_vector)\n",
        "\n",
        "    left_most_nontrivial=[]\n",
        "    for i in range(n):\n",
        "        for j in range(n):\n",
        "            if not(x_matrix[i, j] == 0 and z_matrix[i, j] == 0):\n",
        "                left_most_nontrivial.append(j)\n",
        "                break\n",
        "    assert len(left_most_nontrivial) == n,\"None entangled qubits is found!\"\n",
        "    number_of_non_trivial_generators = len([x-qubit_position for x in left_most_nontrivial if x-qubit_position > 0])\n",
        "\n",
        "\n",
        "#    for i in range(number_of_qubits-1, -1, -1):\n",
        "#        if not(x_matrix[i, qubit_position] == 0 and z_matrix[i, qubit_position] == 0): #first place where there is not an identity operator in the column when coming up from the last row\n",
        "#            non_trivial_generators = number_of_qubits - (i+1)\n",
        "#            break\n",
        "    height = number_of_qubits - (qubit_position+1) - number_of_non_trivial_generators\n",
        "    return height"
      ],
      "metadata": {
        "id": "Fu8mfEQWjgqc"
      },
      "execution_count": 19,
      "outputs": []
    },
    {
      "cell_type": "code",
      "source": [
        "def edge_list_finder(G):\n",
        "    if isinstance(G, nx.classes.graph.Graph): \n",
        "        pass\n",
        "    if isinstance(G, np.ndarray):\n",
        "        G = nx.to_networkx_graph(G)\n",
        "    edge_list1 = []\n",
        "    for line in nx.generate_edgelist(G, data=False):\n",
        "         a = (str(int(line[0])+1),', ',str(int(line[2])+1),'; ') # the plus +1 part make it compatible with matlab indexing node for graphs, node 0 in python = node 1 in sophia's matlab code\n",
        "         edge_list1.append(''.join(list(a)))\n",
        "    b = ''.join(edge_list1)\n",
        "    b = b[:-2] #delete the last semicolon\n",
        "    return b\n"
      ],
      "metadata": {
        "id": "I6nktJJWMmaI"
      },
      "execution_count": 14,
      "outputs": []
    },
    {
      "cell_type": "code",
      "source": [
        "from networkx.convert_matrix import to_numpy_array\n",
        "n=7\n",
        "G1 = nx.gnp_random_graph(n, 0.7)\n",
        "height_x = [0]\n",
        "positions = [0]\n",
        "if nx.is_connected(G1):\n",
        "    z = nx.to_numpy_array(G1)\n",
        "    x = np.eye(n)\n",
        "    for i in range(n):\n",
        "        height_x.append(height_function(x, z, i))\n",
        "        positions.append(i+1)\n",
        "\n",
        "print('Edge_List',edge_list_finder(G1))   \n",
        "     \n",
        "#nx.draw(G1,with_labels =True)\n",
        "plt.plot(positions, height_x, 'ro')\n",
        "plt.show()"
      ],
      "metadata": {
        "colab": {
          "base_uri": "https://localhost:8080/",
          "height": 282
        },
        "id": "DK78C-3uTNLx",
        "outputId": "97347f76-a98b-4498-c9fc-322a84600430"
      },
      "execution_count": 37,
      "outputs": [
        {
          "output_type": "stream",
          "name": "stdout",
          "text": [
            "Edge_List 1, 2; 1, 5; 1, 6; 1, 7; 2, 4; 2, 6; 3, 5; 3, 7; 4, 5; 4, 7; 5, 6; 5, 7; 6, 7\n"
          ]
        },
        {
          "output_type": "display_data",
          "data": {
            "text/plain": [
              "<Figure size 432x288 with 1 Axes>"
            ],
            "image/png": "[encoded data removed]"
          },
          "metadata": {
            "needs_background": "light"
          }
        }
      ]
    },
    {
      "cell_type": "code",
      "source": [
        "a = symplectic_to_string(x, z)\n",
        "a = np.asarray(a)\n",
        "a.reshape([n,1])"
      ],
      "metadata": {
        "colab": {
          "base_uri": "https://localhost:8080/"
        },
        "id": "AcV2S68lAmdc",
        "outputId": "6b4a960e-2817-47fd-ae5c-2ab020a55a8a"
      },
      "execution_count": 39,
      "outputs": [
        {
          "output_type": "execute_result",
          "data": {
            "text/plain": [
              "array([['XZIIZZZ'],\n",
              "       ['ZXIZIZI'],\n",
              "       ['IXZIXIZ'],\n",
              "       ['IZIXZIZ'],\n",
              "       ['IIXIZIZ'],\n",
              "       ['IIZYXYZ'],\n",
              "       ['IIIIYIY']], dtype='<U7')"
            ]
          },
          "metadata": {},
          "execution_count": 39
        }
      ]
    },
    {
      "cell_type": "code",
      "source": [
        "\n"
      ],
      "metadata": {
        "id": "IAB4PPFCCE7m"
      },
      "execution_count": null,
      "outputs": []
    }
  ]
}