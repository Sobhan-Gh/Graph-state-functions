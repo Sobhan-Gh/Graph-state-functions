{
  "nbformat": 4,
  "nbformat_minor": 0,
  "metadata": {
    "colab": {
      "name": "qiskit_benchmark_circuit_check.ipynb",
      "provenance": [],
      "collapsed_sections": [],
      "include_colab_link": true
    },
    "kernelspec": {
      "name": "python3",
      "display_name": "Python 3"
    },
    "language_info": {
      "name": "python"
    }
  },
  "cells": [
    {
      "cell_type": "markdown",
      "metadata": {
        "id": "view-in-github",
        "colab_type": "text"
      },
      "source": [
        "<a href=\"https://colab.research.google.com/github/Sobhan-Gh/Graph-state-functions/blob/main/qiskit_benchmark_circuit_check.ipynb\" target=\"_parent\"><img src=\"https://colab.research.google.com/assets/colab-badge.svg\" alt=\"Open In Colab\"/></a>"
      ]
    },
    {
      "cell_type": "code",
      "source": [
        "!pip install qiskit"
      ],
      "metadata": {
        "id": "ONdIB97xHnzA"
      },
      "execution_count": null,
      "outputs": []
    },
    {
      "cell_type": "code",
      "source": [
        "import numpy as np\n",
        "from qiskit import QuantumCircuit\n",
        "from qiskit import Aer\n",
        "import qiskit as qs\n",
        "from qiskit.visualization import plot_state_city, plot_state_hinton\n",
        "from qiskit.quantum_info import partial_trace, DensityMatrix, Statevector, state_fidelity\n",
        "backend = Aer.get_backend('statevector_simulator')"
      ],
      "metadata": {
        "id": "vaV0XSqKH6y2"
      },
      "execution_count": 2,
      "outputs": []
    },
    {
      "cell_type": "markdown",
      "source": [
        "List of ideal circuits to generate the Target density matrix:\n",
        "3GHZ,  4GHZ,  3Linear,  4Linear states. "
      ],
      "metadata": {
        "id": "SpIswS08G6Gv"
      }
    },
    {
      "cell_type": "code",
      "source": [
        "#ideal 3GHZ graph\n",
        "qc3GHZ = QuantumCircuit(3, 0)\n",
        "qc3GHZ.h(0)\n",
        "qc3GHZ.h(1)\n",
        "qc3GHZ.h(2)\n",
        "qc3GHZ.cz(0, 1)\n",
        "qc3GHZ.cz(0, 2)\n",
        "#extras\n",
        "qc3GHZ.h(1)\n",
        "qc3GHZ.h(2)\n",
        "\n",
        "dm3GHZ = DensityMatrix.from_instruction(qc3GHZ)\n",
        "qc3GHZ.draw()"
      ],
      "metadata": {
        "colab": {
          "base_uri": "https://localhost:8080/",
          "height": 125
        },
        "id": "RVkfrgAcTZI5",
        "outputId": "6ba8c5ac-29b3-406a-9751-2fb65bf9d664"
      },
      "execution_count": 3,
      "outputs": [
        {
          "output_type": "execute_result",
          "data": {
            "text/plain": [
              "     ┌───┐           \n",
              "q_0: ┤ H ├─■──■──────\n",
              "     ├───┤ │  │ ┌───┐\n",
              "q_1: ┤ H ├─■──┼─┤ H ├\n",
              "     ├───┤    │ ├───┤\n",
              "q_2: ┤ H ├────■─┤ H ├\n",
              "     └───┘      └───┘"
            ],
            "text/html": [
              "<pre style=\"word-wrap: normal;white-space: pre;background: #fff0;line-height: 1.1;font-family: &quot;Courier New&quot;,Courier,monospace\">     ┌───┐           \n",
              "q_0: ┤ H ├─■──■──────\n",
              "     ├───┤ │  │ ┌───┐\n",
              "q_1: ┤ H ├─■──┼─┤ H ├\n",
              "     ├───┤    │ ├───┤\n",
              "q_2: ┤ H ├────■─┤ H ├\n",
              "     └───┘      └───┘</pre>"
            ]
          },
          "metadata": {},
          "execution_count": 3
        }
      ]
    },
    {
      "cell_type": "code",
      "source": [
        "#ideal 3GHZ graph 2 # Li et al circuit\n",
        "qc3GHZ = QuantumCircuit(4, 1)\n",
        "qc3GHZ.h(3)\n",
        "qc3GHZ.cnot(3, 0)\n",
        "qc3GHZ.cnot(3, 1)\n",
        "qc3GHZ.h(1)\n",
        "qc3GHZ.cnot(3, 2)\n",
        "qc3GHZ.h(2)\n",
        "qc3GHZ.h(3)\n",
        "qc3GHZ.measure(3, 0)\n",
        "qc3GHZ.x(2).c_if(0, 1)\n",
        "qc3GHZ.reset(3)\n",
        "\n",
        "job = backend.run(qc3GHZ)\n",
        "result1 = job.result()\n",
        "dm3GHZ2 = result1.get_statevector(qc3GHZ)\n",
        "dm3GHZ2 = partial_trace(dm3GHZ2,[3])\n",
        "qc3GHZ.draw()"
      ],
      "metadata": {
        "id": "OpXTJI1Ky03a",
        "colab": {
          "base_uri": "https://localhost:8080/",
          "height": 186
        },
        "outputId": "12a34ecd-71c5-456c-bd6e-e9f136898cf3"
      },
      "execution_count": 4,
      "outputs": [
        {
          "output_type": "execute_result",
          "data": {
            "text/plain": [
              "          ┌───┐                                  \n",
              "q_0: ─────┤ X ├──────────────────────────────────\n",
              "          └─┬─┘┌───┐┌───┐                        \n",
              "q_1: ───────┼──┤ X ├┤ H ├────────────────────────\n",
              "            │  └─┬─┘├───┤┌───┐      ┌───┐        \n",
              "q_2: ───────┼────┼──┤ X ├┤ H ├──────┤ X ├────────\n",
              "     ┌───┐  │    │  └─┬─┘├───┤┌─┐   └─╥─┘        \n",
              "q_3: ┤ H ├──■────■────■──┤ H ├┤M├─────╫──────|0>─\n",
              "     └───┘               └───┘└╥┘┌────╨────┐     \n",
              "c: 1/══════════════════════════╩═╡ c_0=0x1 ╞═════\n",
              "                               0 └─────────┘     "
            ],
            "text/html": [
              "<pre style=\"word-wrap: normal;white-space: pre;background: #fff0;line-height: 1.1;font-family: &quot;Courier New&quot;,Courier,monospace\">          ┌───┐                                  \n",
              "q_0: ─────┤ X ├──────────────────────────────────\n",
              "          └─┬─┘┌───┐┌───┐                        \n",
              "q_1: ───────┼──┤ X ├┤ H ├────────────────────────\n",
              "            │  └─┬─┘├───┤┌───┐      ┌───┐        \n",
              "q_2: ───────┼────┼──┤ X ├┤ H ├──────┤ X ├────────\n",
              "     ┌───┐  │    │  └─┬─┘├───┤┌─┐   └─╥─┘        \n",
              "q_3: ┤ H ├──■────■────■──┤ H ├┤M├─────╫──────|0>─\n",
              "     └───┘               └───┘└╥┘┌────╨────┐     \n",
              "c: 1/══════════════════════════╩═╡ c_0=0x1 ╞═════\n",
              "                               0 └─────────┘     </pre>"
            ]
          },
          "metadata": {},
          "execution_count": 4
        }
      ]
    },
    {
      "cell_type": "code",
      "source": [
        "#ideal 4GHZ graph \n",
        "qc4GHZ = QuantumCircuit(4, 0)\n",
        "qc4GHZ.h(0)\n",
        "qc4GHZ.h(1)\n",
        "qc4GHZ.h(2)\n",
        "qc4GHZ.h(3)\n",
        "qc4GHZ.cz(0, 1)\n",
        "qc4GHZ.cz(0, 2)\n",
        "qc4GHZ.cz(0, 3)\n",
        "#extras\n",
        "qc4GHZ.h(1)\n",
        "qc4GHZ.h(2)\n",
        "qc4GHZ.h(3)\n",
        "\n",
        "dm4GHZ = DensityMatrix.from_instruction(qc4GHZ)\n",
        "qc4GHZ.draw()\n"
      ],
      "metadata": {
        "colab": {
          "base_uri": "https://localhost:8080/",
          "height": 156
        },
        "id": "G-EfSkfiWRRv",
        "outputId": "fa7c9d37-a066-479f-ab8a-cc6bc4ae5b4d"
      },
      "execution_count": 5,
      "outputs": [
        {
          "output_type": "execute_result",
          "data": {
            "text/plain": [
              "     ┌───┐                   \n",
              "q_0: ┤ H ├─■──■───────■──────\n",
              "     ├───┤ │  │ ┌───┐ │      \n",
              "q_1: ┤ H ├─■──┼─┤ H ├─┼──────\n",
              "     ├───┤    │ ├───┤ │      \n",
              "q_2: ┤ H ├────■─┤ H ├─┼──────\n",
              "     ├───┤      └───┘ │ ┌───┐\n",
              "q_3: ┤ H ├────────────■─┤ H ├\n",
              "     └───┘              └───┘"
            ],
            "text/html": [
              "<pre style=\"word-wrap: normal;white-space: pre;background: #fff0;line-height: 1.1;font-family: &quot;Courier New&quot;,Courier,monospace\">     ┌───┐                   \n",
              "q_0: ┤ H ├─■──■───────■──────\n",
              "     ├───┤ │  │ ┌───┐ │      \n",
              "q_1: ┤ H ├─■──┼─┤ H ├─┼──────\n",
              "     ├───┤    │ ├───┤ │      \n",
              "q_2: ┤ H ├────■─┤ H ├─┼──────\n",
              "     ├───┤      └───┘ │ ┌───┐\n",
              "q_3: ┤ H ├────────────■─┤ H ├\n",
              "     └───┘              └───┘</pre>"
            ]
          },
          "metadata": {},
          "execution_count": 5
        }
      ]
    },
    {
      "cell_type": "code",
      "source": [
        "#ideal 4GHZ graph 2 #Li et al circuit\n",
        "qc4GHZ = QuantumCircuit(5, 1)\n",
        "qc4GHZ.h(4)\n",
        "qc4GHZ.cnot(4, 0)\n",
        "qc4GHZ.cnot(4, 1)\n",
        "qc4GHZ.cnot(4, 2)\n",
        "qc4GHZ.cnot(4, 3)\n",
        "qc4GHZ.h(1)\n",
        "qc4GHZ.h(2)\n",
        "qc4GHZ.h(3)\n",
        "qc4GHZ.h(4)\n",
        "qc4GHZ.measure(4, 0)\n",
        "qc4GHZ.x(3).c_if(0, 1)\n",
        "qc4GHZ.reset(4)\n",
        "\n",
        "job = backend.run(qc4GHZ)\n",
        "result1 = job.result()\n",
        "dm4GHZ2 = result1.get_statevector(qc4GHZ)\n",
        "dm4GHZ2 = partial_trace(dm4GHZ2,[4])\n",
        "qc4GHZ.draw()"
      ],
      "metadata": {
        "id": "m1Lw5af92o60",
        "colab": {
          "base_uri": "https://localhost:8080/",
          "height": 217
        },
        "outputId": "59e0c460-75cd-428b-f1f4-064b374a9232"
      },
      "execution_count": 6,
      "outputs": [
        {
          "output_type": "execute_result",
          "data": {
            "text/plain": [
              "          ┌───┐                                       \n",
              "q_0: ─────┤ X ├───────────────────────────────────────\n",
              "          └─┬─┘┌───┐┌───┐                             \n",
              "q_1: ───────┼──┤ X ├┤ H ├─────────────────────────────\n",
              "            │  └─┬─┘├───┤┌───┐                        \n",
              "q_2: ───────┼────┼──┤ X ├┤ H ├────────────────────────\n",
              "            │    │  └─┬─┘├───┤┌───┐      ┌───┐        \n",
              "q_3: ───────┼────┼────┼──┤ X ├┤ H ├──────┤ X ├────────\n",
              "     ┌───┐  │    │    │  └─┬─┘├───┤┌─┐   └─╥─┘        \n",
              "q_4: ┤ H ├──■────■────■────■──┤ H ├┤M├─────╫──────|0>─\n",
              "     └───┘                    └───┘└╥┘┌────╨────┐     \n",
              "c: 1/═══════════════════════════════╩═╡ c_0=0x1 ╞═════\n",
              "                                    0 └─────────┘     "
            ],
            "text/html": [
              "<pre style=\"word-wrap: normal;white-space: pre;background: #fff0;line-height: 1.1;font-family: &quot;Courier New&quot;,Courier,monospace\">          ┌───┐                                       \n",
              "q_0: ─────┤ X ├───────────────────────────────────────\n",
              "          └─┬─┘┌───┐┌───┐                             \n",
              "q_1: ───────┼──┤ X ├┤ H ├─────────────────────────────\n",
              "            │  └─┬─┘├───┤┌───┐                        \n",
              "q_2: ───────┼────┼──┤ X ├┤ H ├────────────────────────\n",
              "            │    │  └─┬─┘├───┤┌───┐      ┌───┐        \n",
              "q_3: ───────┼────┼────┼──┤ X ├┤ H ├──────┤ X ├────────\n",
              "     ┌───┐  │    │    │  └─┬─┘├───┤┌─┐   └─╥─┘        \n",
              "q_4: ┤ H ├──■────■────■────■──┤ H ├┤M├─────╫──────|0>─\n",
              "     └───┘                    └───┘└╥┘┌────╨────┐     \n",
              "c: 1/═══════════════════════════════╩═╡ c_0=0x1 ╞═════\n",
              "                                    0 └─────────┘     </pre>"
            ]
          },
          "metadata": {},
          "execution_count": 6
        }
      ]
    },
    {
      "cell_type": "code",
      "source": [
        "#ideal 3Lin graph\n",
        "qc3Lin = QuantumCircuit(3, 0)\n",
        "qc3Lin.h(0)\n",
        "qc3Lin.h(1)\n",
        "qc3Lin.h(2)\n",
        "qc3Lin.cz(0, 1)\n",
        "qc3Lin.cz(1, 2)\n",
        "\n",
        "dm3Lin = DensityMatrix.from_instruction(qc3Lin)\n",
        "qc3Lin.draw()"
      ],
      "metadata": {
        "colab": {
          "base_uri": "https://localhost:8080/",
          "height": 125
        },
        "id": "C2-AXxEeWco3",
        "outputId": "36be4a22-3b91-4e8b-fcd9-1ba387812401"
      },
      "execution_count": 7,
      "outputs": [
        {
          "output_type": "execute_result",
          "data": {
            "text/plain": [
              "     ┌───┐      \n",
              "q_0: ┤ H ├─■────\n",
              "     ├───┤ │    \n",
              "q_1: ┤ H ├─■──■─\n",
              "     ├───┤    │ \n",
              "q_2: ┤ H ├────■─\n",
              "     └───┘      "
            ],
            "text/html": [
              "<pre style=\"word-wrap: normal;white-space: pre;background: #fff0;line-height: 1.1;font-family: &quot;Courier New&quot;,Courier,monospace\">     ┌───┐      \n",
              "q_0: ┤ H ├─■────\n",
              "     ├───┤ │    \n",
              "q_1: ┤ H ├─■──■─\n",
              "     ├───┤    │ \n",
              "q_2: ┤ H ├────■─\n",
              "     └───┘      </pre>"
            ]
          },
          "metadata": {},
          "execution_count": 7
        }
      ]
    },
    {
      "cell_type": "code",
      "source": [
        "#ideal 4Lin graph\n",
        "qc4Lin = QuantumCircuit(4, 0)\n",
        "qc4Lin.h(0)\n",
        "qc4Lin.h(1)\n",
        "qc4Lin.h(2)\n",
        "qc4Lin.h(3)\n",
        "qc4Lin.cz(0, 1)\n",
        "qc4Lin.cz(1, 2)\n",
        "qc4Lin.cz(2, 3)\n",
        "\n",
        "dm4Lin = DensityMatrix.from_instruction(qc4Lin)\n",
        "qc4Lin.draw()"
      ],
      "metadata": {
        "colab": {
          "base_uri": "https://localhost:8080/",
          "height": 156
        },
        "id": "XgpdNKoRWqP-",
        "outputId": "ed2c23d8-80c3-4da2-f757-a2ef09680d09"
      },
      "execution_count": 8,
      "outputs": [
        {
          "output_type": "execute_result",
          "data": {
            "text/plain": [
              "     ┌───┐         \n",
              "q_0: ┤ H ├─■───────\n",
              "     ├───┤ │       \n",
              "q_1: ┤ H ├─■──■────\n",
              "     ├───┤    │    \n",
              "q_2: ┤ H ├────■──■─\n",
              "     ├───┤       │ \n",
              "q_3: ┤ H ├───────■─\n",
              "     └───┘         "
            ],
            "text/html": [
              "<pre style=\"word-wrap: normal;white-space: pre;background: #fff0;line-height: 1.1;font-family: &quot;Courier New&quot;,Courier,monospace\">     ┌───┐         \n",
              "q_0: ┤ H ├─■───────\n",
              "     ├───┤ │       \n",
              "q_1: ┤ H ├─■──■────\n",
              "     ├───┤    │    \n",
              "q_2: ┤ H ├────■──■─\n",
              "     ├───┤       │ \n",
              "q_3: ┤ H ├───────■─\n",
              "     └───┘         </pre>"
            ]
          },
          "metadata": {},
          "execution_count": 8
        }
      ]
    },
    {
      "cell_type": "markdown",
      "source": [
        "Below are the quantum circuit that the solver suggests (in the same order they appear in the random_solver_benchmark_results document) "
      ],
      "metadata": {
        "id": "AJT2fCIzHZdq"
      }
    },
    {
      "cell_type": "code",
      "source": [
        "#Quantum Circuit: 3GHZ – 2 (measurement probabilistic)\n",
        "q = qs.QuantumRegister(4)\n",
        "c = qs.ClassicalRegister(1)\n",
        "qc1 = QuantumCircuit(q, c)\n",
        "qc1.h(q[3])\n",
        "qc1.cnot(q[3],q[0])\n",
        "qc1.cnot(q[3],q[1])\n",
        "qc1.h(q[3])\n",
        "qc1.cnot(q[3],q[2])\n",
        "qc1.h(q[2])\n",
        "qc1.h(q[3])\n",
        "qc1.s(q[3])\n",
        "qc1.z(q[3])\n",
        "qc1.measure(q[3], c)\n",
        "qc1.x(q[2]).c_if(c, 1)\n",
        "qc1.reset(3)\n",
        "\n",
        "\n",
        "job = backend.run(qc1)\n",
        "result1 = job.result()\n",
        "state1 = result1.get_statevector(qc1)\n",
        "\n",
        "state1 = partial_trace(state1,[3])\n",
        "#qs.visualization.plot_state_hinton(dm)\n",
        "#qs.visualization.plot_state_city(state1)\n",
        "print(\"Fidelity\", state_fidelity(dm3GHZ, state1))\n",
        "qc1.draw()"
      ],
      "metadata": {
        "colab": {
          "base_uri": "https://localhost:8080/",
          "height": 204
        },
        "id": "D7GG8ewBaQgo",
        "outputId": "b26d9317-a5bb-4767-d1a5-5f4fc5ae67b9"
      },
      "execution_count": 9,
      "outputs": [
        {
          "output_type": "stream",
          "name": "stdout",
          "text": [
            "Fidelity 0.9999999999999987\n"
          ]
        },
        {
          "output_type": "execute_result",
          "data": {
            "text/plain": [
              "           ┌───┐                                             \n",
              "q0_0: ─────┤ X ├─────────────────────────────────────────────\n",
              "           └─┬─┘┌───┐                                        \n",
              "q0_1: ───────┼──┤ X ├────────────────────────────────────────\n",
              "             │  └─┬─┘     ┌───┐┌───┐              ┌───┐      \n",
              "q0_2: ───────┼────┼───────┤ X ├┤ H ├──────────────┤ X ├──────\n",
              "      ┌───┐  │    │  ┌───┐└─┬─┘├───┤┌───┐┌───┐┌─┐ └─╥─┘      \n",
              "q0_3: ┤ H ├──■────■──┤ H ├──■──┤ H ├┤ S ├┤ Z ├┤M├───╫────|0>─\n",
              "      └───┘          └───┘     └───┘└───┘└───┘└╥┘┌──╨──┐     \n",
              "c0: 1/═════════════════════════════════════════╩═╡ 0x1 ╞═════\n",
              "                                               0 └─────┘     "
            ],
            "text/html": [
              "<pre style=\"word-wrap: normal;white-space: pre;background: #fff0;line-height: 1.1;font-family: &quot;Courier New&quot;,Courier,monospace\">           ┌───┐                                             \n",
              "q0_0: ─────┤ X ├─────────────────────────────────────────────\n",
              "           └─┬─┘┌───┐                                        \n",
              "q0_1: ───────┼──┤ X ├────────────────────────────────────────\n",
              "             │  └─┬─┘     ┌───┐┌───┐              ┌───┐      \n",
              "q0_2: ───────┼────┼───────┤ X ├┤ H ├──────────────┤ X ├──────\n",
              "      ┌───┐  │    │  ┌───┐└─┬─┘├───┤┌───┐┌───┐┌─┐ └─╥─┘      \n",
              "q0_3: ┤ H ├──■────■──┤ H ├──■──┤ H ├┤ S ├┤ Z ├┤M├───╫────|0>─\n",
              "      └───┘          └───┘     └───┘└───┘└───┘└╥┘┌──╨──┐     \n",
              "c0: 1/═════════════════════════════════════════╩═╡ 0x1 ╞═════\n",
              "                                               0 └─────┘     </pre>"
            ]
          },
          "metadata": {},
          "execution_count": 9
        }
      ]
    },
    {
      "cell_type": "code",
      "source": [
        "#Quantum Circuit: 3GHZ – 0 / 2 / 3 / 5 / 7 / 8 (measurement 1)\n",
        "q = qs.QuantumRegister(4)\n",
        "c = qs.ClassicalRegister(1)\n",
        "qc2 = QuantumCircuit(q, c)\n",
        "qc2.h(q[3])\n",
        "qc2.cnot(q[3],q[0])\n",
        "qc2.cnot(q[3],q[1])\n",
        "qc2.h(q[3])\n",
        "qc2.cnot(q[3],q[2])\n",
        "qc2.h(q[2])\n",
        "qc2.h(q[3])\n",
        "qc2.measure(q[3], c)\n",
        "qc2.x(q[2]).c_if(c, 1)\n",
        "qc2.reset(3)\n",
        "\n",
        "\n",
        "job = backend.run(qc2)\n",
        "result2 = job.result()\n",
        "state2 = result2.get_statevector(qc2)\n",
        "\n",
        "state2 = partial_trace(state2,[3])\n",
        "#qs.visualization.plot_state_hinton(dm)\n",
        "#qs.visualization.plot_state_city(state2)\n",
        "print(\"Fidelity\", state_fidelity(dm3GHZ, state2))\n",
        "qc2.draw()"
      ],
      "metadata": {
        "colab": {
          "base_uri": "https://localhost:8080/",
          "height": 204
        },
        "id": "0kyoApVhAqnm",
        "outputId": "270572d2-adb4-45a6-e237-242d156d045b"
      },
      "execution_count": 10,
      "outputs": [
        {
          "output_type": "stream",
          "name": "stdout",
          "text": [
            "Fidelity 0.9999999999999987\n"
          ]
        },
        {
          "output_type": "execute_result",
          "data": {
            "text/plain": [
              "           ┌───┐                                   \n",
              "q1_0: ─────┤ X ├───────────────────────────────────\n",
              "           └─┬─┘┌───┐                              \n",
              "q1_1: ───────┼──┤ X ├──────────────────────────────\n",
              "             │  └─┬─┘     ┌───┐┌───┐    ┌───┐      \n",
              "q1_2: ───────┼────┼───────┤ X ├┤ H ├────┤ X ├──────\n",
              "      ┌───┐  │    │  ┌───┐└─┬─┘├───┤┌─┐ └─╥─┘      \n",
              "q1_3: ┤ H ├──■────■──┤ H ├──■──┤ H ├┤M├───╫────|0>─\n",
              "      └───┘          └───┘     └───┘└╥┘┌──╨──┐     \n",
              "c1: 1/═══════════════════════════════╩═╡ 0x1 ╞═════\n",
              "                                     0 └─────┘     "
            ],
            "text/html": [
              "<pre style=\"word-wrap: normal;white-space: pre;background: #fff0;line-height: 1.1;font-family: &quot;Courier New&quot;,Courier,monospace\">           ┌───┐                                   \n",
              "q1_0: ─────┤ X ├───────────────────────────────────\n",
              "           └─┬─┘┌───┐                              \n",
              "q1_1: ───────┼──┤ X ├──────────────────────────────\n",
              "             │  └─┬─┘     ┌───┐┌───┐    ┌───┐      \n",
              "q1_2: ───────┼────┼───────┤ X ├┤ H ├────┤ X ├──────\n",
              "      ┌───┐  │    │  ┌───┐└─┬─┘├───┤┌─┐ └─╥─┘      \n",
              "q1_3: ┤ H ├──■────■──┤ H ├──■──┤ H ├┤M├───╫────|0>─\n",
              "      └───┘          └───┘     └───┘└╥┘┌──╨──┐     \n",
              "c1: 1/═══════════════════════════════╩═╡ 0x1 ╞═════\n",
              "                                     0 └─────┘     </pre>"
            ]
          },
          "metadata": {},
          "execution_count": 10
        }
      ]
    },
    {
      "cell_type": "code",
      "source": [
        "#Quantum Circuit: 3GHZ – 1 / 4 / 9 (measurement 1), 8 (measurement probabilistic)\n",
        "q = qs.QuantumRegister(4)\n",
        "c = qs.ClassicalRegister(1)\n",
        "qc3 = QuantumCircuit(q, c)\n",
        "qc3.h(q[3])\n",
        "qc3.cnot(q[3],q[0])\n",
        "qc3.h(q[3])\n",
        "qc3.h(q[0])\n",
        "qc3.cnot(q[3],q[1])\n",
        "qc3.h(q[3])\n",
        "qc3.cnot(q[3],q[2])\n",
        "qc3.h(q[2])\n",
        "qc3.h(q[3])\n",
        "qc3.measure(q[3], c)\n",
        "qc3.x(q[2]).c_if(c, 1)\n",
        "qc3.reset(3)\n",
        "\n",
        "\n",
        "job = backend.run(qc3)\n",
        "result3 = job.result()\n",
        "state3 = result3.get_statevector(qc3)\n",
        "\n",
        "state3 = partial_trace(state3,[3])\n",
        "#qs.visualization.plot_state_hinton(dm)\n",
        "#qs.visualization.plot_state_city(state3)\n",
        "print(\"Fidelity\", state_fidelity(dm3GHZ, state3))\n",
        "qc3.draw()"
      ],
      "metadata": {
        "colab": {
          "base_uri": "https://localhost:8080/",
          "height": 204
        },
        "id": "wGdVM2pcA9Fc",
        "outputId": "84673269-9c62-48d3-d7ab-152eb1677d4f"
      },
      "execution_count": 11,
      "outputs": [
        {
          "output_type": "stream",
          "name": "stdout",
          "text": [
            "Fidelity 0.9999999999999996\n"
          ]
        },
        {
          "output_type": "execute_result",
          "data": {
            "text/plain": [
              "           ┌───┐┌───┐                                   \n",
              "q2_0: ─────┤ X ├┤ H ├───────────────────────────────────\n",
              "           └─┬─┘└───┘┌───┐                              \n",
              "q2_1: ───────┼───────┤ X ├──────────────────────────────\n",
              "             │       └─┬─┘     ┌───┐┌───┐    ┌───┐      \n",
              "q2_2: ───────┼─────────┼───────┤ X ├┤ H ├────┤ X ├──────\n",
              "      ┌───┐  │  ┌───┐  │  ┌───┐└─┬─┘├───┤┌─┐ └─╥─┘      \n",
              "q2_3: ┤ H ├──■──┤ H ├──■──┤ H ├──■──┤ H ├┤M├───╫────|0>─\n",
              "      └───┘     └───┘     └───┘     └───┘└╥┘┌──╨──┐     \n",
              "c2: 1/════════════════════════════════════╩═╡ 0x1 ╞═════\n",
              "                                          0 └─────┘     "
            ],
            "text/html": [
              "<pre style=\"word-wrap: normal;white-space: pre;background: #fff0;line-height: 1.1;font-family: &quot;Courier New&quot;,Courier,monospace\">           ┌───┐┌───┐                                   \n",
              "q2_0: ─────┤ X ├┤ H ├───────────────────────────────────\n",
              "           └─┬─┘└───┘┌───┐                              \n",
              "q2_1: ───────┼───────┤ X ├──────────────────────────────\n",
              "             │       └─┬─┘     ┌───┐┌───┐    ┌───┐      \n",
              "q2_2: ───────┼─────────┼───────┤ X ├┤ H ├────┤ X ├──────\n",
              "      ┌───┐  │  ┌───┐  │  ┌───┐└─┬─┘├───┤┌─┐ └─╥─┘      \n",
              "q2_3: ┤ H ├──■──┤ H ├──■──┤ H ├──■──┤ H ├┤M├───╫────|0>─\n",
              "      └───┘     └───┘     └───┘     └───┘└╥┘┌──╨──┐     \n",
              "c2: 1/════════════════════════════════════╩═╡ 0x1 ╞═════\n",
              "                                          0 └─────┘     </pre>"
            ]
          },
          "metadata": {},
          "execution_count": 11
        }
      ]
    },
    {
      "cell_type": "code",
      "source": [
        "#Quantum Circuit: 4GHZ – 0 / 5 / 7 / 8 (measurement 1)\n",
        "q = qs.QuantumRegister(5)\n",
        "c = qs.ClassicalRegister(1)\n",
        "qc4 = QuantumCircuit(q, c)\n",
        "qc4.h(q[4])\n",
        "qc4.cnot(q[4],q[0])\n",
        "qc4.cnot(q[4],q[1])\n",
        "qc4.cnot(q[4],q[2])\n",
        "qc4.h(q[4])\n",
        "qc4.cnot(q[4],q[3])\n",
        "qc4.h(q[3])\n",
        "qc4.h(q[4])\n",
        "qc4.measure(q[4], c)\n",
        "qc4.x(q[3]).c_if(c, 1)\n",
        "qc4.reset(4)\n",
        "\n",
        "\n",
        "job = backend.run(qc4)\n",
        "result4 = job.result()\n",
        "state4 = result4.get_statevector(qc4)\n",
        "\n",
        "state4 = partial_trace(state4,[4])\n",
        "#qs.visualization.plot_state_hinton(dm)\n",
        "#qs.visualization.plot_state_city(state4)\n",
        "print(\"Fidelity\", state_fidelity(dm4GHZ, state4))\n",
        "qc4.draw()"
      ],
      "metadata": {
        "colab": {
          "base_uri": "https://localhost:8080/",
          "height": 234
        },
        "id": "b25xKn9UCfSs",
        "outputId": "139afe4f-65b4-486e-e3b3-680b6cebe23a"
      },
      "execution_count": 12,
      "outputs": [
        {
          "output_type": "stream",
          "name": "stdout",
          "text": [
            "Fidelity 0.999999999999998\n"
          ]
        },
        {
          "output_type": "execute_result",
          "data": {
            "text/plain": [
              "           ┌───┐                                        \n",
              "q3_0: ─────┤ X ├────────────────────────────────────────\n",
              "           └─┬─┘┌───┐                                   \n",
              "q3_1: ───────┼──┤ X ├───────────────────────────────────\n",
              "             │  └─┬─┘┌───┐                              \n",
              "q3_2: ───────┼────┼──┤ X ├──────────────────────────────\n",
              "             │    │  └─┬─┘     ┌───┐┌───┐    ┌───┐      \n",
              "q3_3: ───────┼────┼────┼───────┤ X ├┤ H ├────┤ X ├──────\n",
              "      ┌───┐  │    │    │  ┌───┐└─┬─┘├───┤┌─┐ └─╥─┘      \n",
              "q3_4: ┤ H ├──■────■────■──┤ H ├──■──┤ H ├┤M├───╫────|0>─\n",
              "      └───┘               └───┘     └───┘└╥┘┌──╨──┐     \n",
              "c3: 1/════════════════════════════════════╩═╡ 0x1 ╞═════\n",
              "                                          0 └─────┘     "
            ],
            "text/html": [
              "<pre style=\"word-wrap: normal;white-space: pre;background: #fff0;line-height: 1.1;font-family: &quot;Courier New&quot;,Courier,monospace\">           ┌───┐                                        \n",
              "q3_0: ─────┤ X ├────────────────────────────────────────\n",
              "           └─┬─┘┌───┐                                   \n",
              "q3_1: ───────┼──┤ X ├───────────────────────────────────\n",
              "             │  └─┬─┘┌───┐                              \n",
              "q3_2: ───────┼────┼──┤ X ├──────────────────────────────\n",
              "             │    │  └─┬─┘     ┌───┐┌───┐    ┌───┐      \n",
              "q3_3: ───────┼────┼────┼───────┤ X ├┤ H ├────┤ X ├──────\n",
              "      ┌───┐  │    │    │  ┌───┐└─┬─┘├───┤┌─┐ └─╥─┘      \n",
              "q3_4: ┤ H ├──■────■────■──┤ H ├──■──┤ H ├┤M├───╫────|0>─\n",
              "      └───┘               └───┘     └───┘└╥┘┌──╨──┐     \n",
              "c3: 1/════════════════════════════════════╩═╡ 0x1 ╞═════\n",
              "                                          0 └─────┘     </pre>"
            ]
          },
          "metadata": {},
          "execution_count": 12
        }
      ]
    },
    {
      "cell_type": "code",
      "source": [
        "#Quantum Circuit: 4GHZ – 0 (measurement probabilistic)\n",
        "q = qs.QuantumRegister(5)\n",
        "c = qs.ClassicalRegister(1)\n",
        "qc5 = QuantumCircuit(q, c)\n",
        "qc5.h(q[4])\n",
        "qc5.cnot(q[4],q[0])\n",
        "qc5.h(q[0])\n",
        "qc5.h(q[4])\n",
        "qc5.cnot(q[4],q[1])\n",
        "qc5.cnot(q[4],q[2])\n",
        "qc5.h(q[4])\n",
        "qc5.cnot(q[4],q[3])\n",
        "qc5.h(q[3])\n",
        "qc5.h(q[4])\n",
        "qc5.measure(q[4], c)\n",
        "qc5.x(q[3]).c_if(c, 1)\n",
        "qc5.reset(4)\n",
        "\n",
        "\n",
        "job = backend.run(qc5)\n",
        "result5 = job.result()\n",
        "state5 = result5.get_statevector(qc5)\n",
        "\n",
        "state5 = partial_trace(state5,[4])\n",
        "#qs.visualization.plot_state_hinton(dm)\n",
        "#qs.visualization.plot_state_city(state5)\n",
        "print(\"Fidelity\", state_fidelity(dm4GHZ, state5))\n",
        "qc5.draw()"
      ],
      "metadata": {
        "colab": {
          "base_uri": "https://localhost:8080/",
          "height": 234
        },
        "id": "KNCyh9a1DyHr",
        "outputId": "042b28c8-39e5-4904-d764-1fafaa3429e4"
      },
      "execution_count": 13,
      "outputs": [
        {
          "output_type": "stream",
          "name": "stdout",
          "text": [
            "Fidelity 0.9999999999999996\n"
          ]
        },
        {
          "output_type": "execute_result",
          "data": {
            "text/plain": [
              "           ┌───┐┌───┐                                        \n",
              "q4_0: ─────┤ X ├┤ H ├────────────────────────────────────────\n",
              "           └─┬─┘└───┘┌───┐                                   \n",
              "q4_1: ───────┼───────┤ X ├───────────────────────────────────\n",
              "             │       └─┬─┘┌───┐                              \n",
              "q4_2: ───────┼─────────┼──┤ X ├──────────────────────────────\n",
              "             │         │  └─┬─┘     ┌───┐┌───┐    ┌───┐      \n",
              "q4_3: ───────┼─────────┼────┼───────┤ X ├┤ H ├────┤ X ├──────\n",
              "      ┌───┐  │  ┌───┐  │    │  ┌───┐└─┬─┘├───┤┌─┐ └─╥─┘      \n",
              "q4_4: ┤ H ├──■──┤ H ├──■────■──┤ H ├──■──┤ H ├┤M├───╫────|0>─\n",
              "      └───┘     └───┘          └───┘     └───┘└╥┘┌──╨──┐     \n",
              "c4: 1/═════════════════════════════════════════╩═╡ 0x1 ╞═════\n",
              "                                               0 └─────┘     "
            ],
            "text/html": [
              "<pre style=\"word-wrap: normal;white-space: pre;background: #fff0;line-height: 1.1;font-family: &quot;Courier New&quot;,Courier,monospace\">           ┌───┐┌───┐                                        \n",
              "q4_0: ─────┤ X ├┤ H ├────────────────────────────────────────\n",
              "           └─┬─┘└───┘┌───┐                                   \n",
              "q4_1: ───────┼───────┤ X ├───────────────────────────────────\n",
              "             │       └─┬─┘┌───┐                              \n",
              "q4_2: ───────┼─────────┼──┤ X ├──────────────────────────────\n",
              "             │         │  └─┬─┘     ┌───┐┌───┐    ┌───┐      \n",
              "q4_3: ───────┼─────────┼────┼───────┤ X ├┤ H ├────┤ X ├──────\n",
              "      ┌───┐  │  ┌───┐  │    │  ┌───┐└─┬─┘├───┤┌─┐ └─╥─┘      \n",
              "q4_4: ┤ H ├──■──┤ H ├──■────■──┤ H ├──■──┤ H ├┤M├───╫────|0>─\n",
              "      └───┘     └───┘          └───┘     └───┘└╥┘┌──╨──┐     \n",
              "c4: 1/═════════════════════════════════════════╩═╡ 0x1 ╞═════\n",
              "                                               0 └─────┘     </pre>"
            ]
          },
          "metadata": {},
          "execution_count": 13
        }
      ]
    },
    {
      "cell_type": "code",
      "source": [
        "#Quantum Circuit: Linear3 – 0 / 5 / 7 (measurement probabilistic), 0 / 1 / 2 / 3 / 4 / 6 / 8 / 9 (measurement 1)\n",
        "q = qs.QuantumRegister(4)\n",
        "c = qs.ClassicalRegister(1)\n",
        "qc6 = QuantumCircuit(q, c)\n",
        "qc6.h(q[3])\n",
        "qc6.cnot(q[3],q[0])\n",
        "qc6.h(q[0])\n",
        "qc6.cnot(q[3],q[1])\n",
        "qc6.cnot(q[3],q[2])\n",
        "qc6.h(q[2])\n",
        "qc6.h(q[3])\n",
        "qc6.measure(q[3], c)\n",
        "qc6.x(q[0]).c_if(c, 1)\n",
        "qc6.reset(3)\n",
        "\n",
        "\n",
        "job = backend.run(qc6)\n",
        "result6 = job.result()\n",
        "state6 = result6.get_statevector(qc6)\n",
        "\n",
        "state6 = partial_trace(state6,[3])\n",
        "#qs.visualization.plot_state_hinton(dm)\n",
        "#qs.visualization.plot_state_city(state3)\n",
        "print(\"Fidelity\", state_fidelity(dm3Lin, state6))\n",
        "qc6.draw()"
      ],
      "metadata": {
        "colab": {
          "base_uri": "https://localhost:8080/",
          "height": 204
        },
        "id": "G18-fHFgE1Go",
        "outputId": "065669f0-9a6f-4738-cfbe-9b175bf6639a"
      },
      "execution_count": 14,
      "outputs": [
        {
          "output_type": "stream",
          "name": "stdout",
          "text": [
            "Fidelity 0.9999999999999989\n"
          ]
        },
        {
          "output_type": "execute_result",
          "data": {
            "text/plain": [
              "           ┌───┐┌───┐              ┌───┐      \n",
              "q5_0: ─────┤ X ├┤ H ├──────────────┤ X ├──────\n",
              "           └─┬─┘├───┤              └─╥─┘      \n",
              "q5_1: ───────┼──┤ X ├────────────────╫────────\n",
              "             │  └─┬─┘┌───┐┌───┐      ║        \n",
              "q5_2: ───────┼────┼──┤ X ├┤ H ├──────╫────────\n",
              "      ┌───┐  │    │  └─┬─┘├───┤┌─┐   ║        \n",
              "q5_3: ┤ H ├──■────■────■──┤ H ├┤M├───╫────|0>─\n",
              "      └───┘               └───┘└╥┘┌──╨──┐     \n",
              "c5: 1/══════════════════════════╩═╡ 0x1 ╞═════\n",
              "                                0 └─────┘     "
            ],
            "text/html": [
              "<pre style=\"word-wrap: normal;white-space: pre;background: #fff0;line-height: 1.1;font-family: &quot;Courier New&quot;,Courier,monospace\">           ┌───┐┌───┐              ┌───┐      \n",
              "q5_0: ─────┤ X ├┤ H ├──────────────┤ X ├──────\n",
              "           └─┬─┘├───┤              └─╥─┘      \n",
              "q5_1: ───────┼──┤ X ├────────────────╫────────\n",
              "             │  └─┬─┘┌───┐┌───┐      ║        \n",
              "q5_2: ───────┼────┼──┤ X ├┤ H ├──────╫────────\n",
              "      ┌───┐  │    │  └─┬─┘├───┤┌─┐   ║        \n",
              "q5_3: ┤ H ├──■────■────■──┤ H ├┤M├───╫────|0>─\n",
              "      └───┘               └───┘└╥┘┌──╨──┐     \n",
              "c5: 1/══════════════════════════╩═╡ 0x1 ╞═════\n",
              "                                0 └─────┘     </pre>"
            ]
          },
          "metadata": {},
          "execution_count": 14
        }
      ]
    },
    {
      "cell_type": "code",
      "source": [
        "#Quantum Circuit: Linear3 – 2 / 4 / 8 / 9 (measurement probabilistic), 5 (measurement 1)\n",
        "q = qs.QuantumRegister(4)\n",
        "c = qs.ClassicalRegister(1)\n",
        "qc7 = QuantumCircuit(q, c)\n",
        "qc7.h(q[3])\n",
        "qc7.cnot(q[3],q[0])\n",
        "qc7.h(q[0])\n",
        "qc7.cnot(q[3],q[1])\n",
        "qc7.cnot(q[3],q[2])\n",
        "qc7.h(q[2])\n",
        "qc7.h(q[3])\n",
        "qc7.measure(q[3], c)\n",
        "qc7.x(q[2]).c_if(c, 1)\n",
        "qc7.reset(3)\n",
        "\n",
        "\n",
        "job = backend.run(qc7)\n",
        "result7 = job.result()\n",
        "state7 = result7.get_statevector(qc7)\n",
        "\n",
        "state7 = partial_trace(state7,[3])\n",
        "#qs.visualization.plot_state_hinton(dm)\n",
        "#qs.visualization.plot_state_city(state3)\n",
        "print(\"Fidelity\", state_fidelity(dm3Lin, state7))\n",
        "qc7.draw()"
      ],
      "metadata": {
        "colab": {
          "base_uri": "https://localhost:8080/",
          "height": 204
        },
        "id": "VrPmXoWDFeaW",
        "outputId": "152a3fb8-5a1a-4bb4-98ff-e93e01af59b7"
      },
      "execution_count": 15,
      "outputs": [
        {
          "output_type": "stream",
          "name": "stdout",
          "text": [
            "Fidelity 0.9999999999999998\n"
          ]
        },
        {
          "output_type": "execute_result",
          "data": {
            "text/plain": [
              "           ┌───┐┌───┐                         \n",
              "q6_0: ─────┤ X ├┤ H ├─────────────────────────\n",
              "           └─┬─┘├───┤                         \n",
              "q6_1: ───────┼──┤ X ├─────────────────────────\n",
              "             │  └─┬─┘┌───┐┌───┐    ┌───┐      \n",
              "q6_2: ───────┼────┼──┤ X ├┤ H ├────┤ X ├──────\n",
              "      ┌───┐  │    │  └─┬─┘├───┤┌─┐ └─╥─┘      \n",
              "q6_3: ┤ H ├──■────■────■──┤ H ├┤M├───╫────|0>─\n",
              "      └───┘               └───┘└╥┘┌──╨──┐     \n",
              "c6: 1/══════════════════════════╩═╡ 0x1 ╞═════\n",
              "                                0 └─────┘     "
            ],
            "text/html": [
              "<pre style=\"word-wrap: normal;white-space: pre;background: #fff0;line-height: 1.1;font-family: &quot;Courier New&quot;,Courier,monospace\">           ┌───┐┌───┐                         \n",
              "q6_0: ─────┤ X ├┤ H ├─────────────────────────\n",
              "           └─┬─┘├───┤                         \n",
              "q6_1: ───────┼──┤ X ├─────────────────────────\n",
              "             │  └─┬─┘┌───┐┌───┐    ┌───┐      \n",
              "q6_2: ───────┼────┼──┤ X ├┤ H ├────┤ X ├──────\n",
              "      ┌───┐  │    │  └─┬─┘├───┤┌─┐ └─╥─┘      \n",
              "q6_3: ┤ H ├──■────■────■──┤ H ├┤M├───╫────|0>─\n",
              "      └───┘               └───┘└╥┘┌──╨──┐     \n",
              "c6: 1/══════════════════════════╩═╡ 0x1 ╞═════\n",
              "                                0 └─────┘     </pre>"
            ]
          },
          "metadata": {},
          "execution_count": 15
        }
      ]
    },
    {
      "cell_type": "code",
      "source": [
        "#Quantum Circuit: Linear4 – 8 / 9 (measurement probabilistic)\n",
        "q = qs.QuantumRegister(5)\n",
        "c = qs.ClassicalRegister(1)\n",
        "qc8 = QuantumCircuit(q, c)\n",
        "qc8.h(q[4])\n",
        "qc8.cnot(q[4],q[0])\n",
        "qc8.h(q[4])\n",
        "qc8.cnot(q[4],q[1])\n",
        "qc8.h(q[4])\n",
        "qc8.cnot(q[4],q[2])\n",
        "qc8.cnot(q[4],q[3])\n",
        "qc8.h(q[3])\n",
        "qc8.h(q[4])\n",
        "qc8.measure(q[4], c)\n",
        "qc8.x(q[3]).c_if(c, 1)\n",
        "qc8.reset(4)\n",
        "\n",
        "\n",
        "job = backend.run(qc8)\n",
        "result8 = job.result()\n",
        "state8 = result8.get_statevector(qc8)\n",
        "\n",
        "state8 = partial_trace(state8,[4])\n",
        "#qs.visualization.plot_state_hinton(dm)\n",
        "#qs.visualization.plot_state_city(state8)\n",
        "print(\"Fidelity\", state_fidelity(dm4Lin, state8))\n",
        "qc8.draw()"
      ],
      "metadata": {
        "colab": {
          "base_uri": "https://localhost:8080/",
          "height": 234
        },
        "id": "5m93n7HAF0S6",
        "outputId": "8b85a1ac-7418-41e8-cffa-e100143ed633"
      },
      "execution_count": 16,
      "outputs": [
        {
          "output_type": "stream",
          "name": "stdout",
          "text": [
            "Fidelity 0.9999999999999996\n"
          ]
        },
        {
          "output_type": "execute_result",
          "data": {
            "text/plain": [
              "           ┌───┐                                             \n",
              "q7_0: ─────┤ X ├─────────────────────────────────────────────\n",
              "           └─┬─┘     ┌───┐                                   \n",
              "q7_1: ───────┼───────┤ X ├───────────────────────────────────\n",
              "             │       └─┬─┘     ┌───┐                         \n",
              "q7_2: ───────┼─────────┼───────┤ X ├─────────────────────────\n",
              "             │         │       └─┬─┘┌───┐┌───┐    ┌───┐      \n",
              "q7_3: ───────┼─────────┼─────────┼──┤ X ├┤ H ├────┤ X ├──────\n",
              "      ┌───┐  │  ┌───┐  │  ┌───┐  │  └─┬─┘├───┤┌─┐ └─╥─┘      \n",
              "q7_4: ┤ H ├──■──┤ H ├──■──┤ H ├──■────■──┤ H ├┤M├───╫────|0>─\n",
              "      └───┘     └───┘     └───┘          └───┘└╥┘┌──╨──┐     \n",
              "c7: 1/═════════════════════════════════════════╩═╡ 0x1 ╞═════\n",
              "                                               0 └─────┘     "
            ],
            "text/html": [
              "<pre style=\"word-wrap: normal;white-space: pre;background: #fff0;line-height: 1.1;font-family: &quot;Courier New&quot;,Courier,monospace\">           ┌───┐                                             \n",
              "q7_0: ─────┤ X ├─────────────────────────────────────────────\n",
              "           └─┬─┘     ┌───┐                                   \n",
              "q7_1: ───────┼───────┤ X ├───────────────────────────────────\n",
              "             │       └─┬─┘     ┌───┐                         \n",
              "q7_2: ───────┼─────────┼───────┤ X ├─────────────────────────\n",
              "             │         │       └─┬─┘┌───┐┌───┐    ┌───┐      \n",
              "q7_3: ───────┼─────────┼─────────┼──┤ X ├┤ H ├────┤ X ├──────\n",
              "      ┌───┐  │  ┌───┐  │  ┌───┐  │  └─┬─┘├───┤┌─┐ └─╥─┘      \n",
              "q7_4: ┤ H ├──■──┤ H ├──■──┤ H ├──■────■──┤ H ├┤M├───╫────|0>─\n",
              "      └───┘     └───┘     └───┘          └───┘└╥┘┌──╨──┐     \n",
              "c7: 1/═════════════════════════════════════════╩═╡ 0x1 ╞═════\n",
              "                                               0 └─────┘     </pre>"
            ]
          },
          "metadata": {},
          "execution_count": 16
        }
      ]
    },
    {
      "cell_type": "code",
      "source": [
        "#Quantum Circuit: Linear4 – 0 / 6 / 7 (measurement 1)\n",
        "q = qs.QuantumRegister(5)\n",
        "c = qs.ClassicalRegister(1)\n",
        "qc9 = QuantumCircuit(q, c)\n",
        "qc9.h(q[4])\n",
        "qc9.cnot(q[4],q[0])\n",
        "qc9.h(q[0])\n",
        "qc9.cnot(q[4],q[1])\n",
        "qc9.h(q[4])\n",
        "qc9.cnot(q[4],q[2])\n",
        "qc9.cnot(q[4],q[3])\n",
        "qc9.h(q[3])\n",
        "qc9.h(q[4])\n",
        "qc9.measure(q[4], c)\n",
        "qc9.x(q[3]).c_if(c, 1)\n",
        "qc9.reset(4)\n",
        "\n",
        "\n",
        "job = backend.run(qc9)\n",
        "result9 = job.result()\n",
        "state9 = result9.get_statevector(qc9)\n",
        "\n",
        "state9 = partial_trace(state9,[4])\n",
        "#qs.visualization.plot_state_hinton(dm)\n",
        "#qs.visualization.plot_state_city(state9)\n",
        "print(\"Fidelity\", state_fidelity(dm4Lin, state9))\n",
        "qc9.draw()"
      ],
      "metadata": {
        "colab": {
          "base_uri": "https://localhost:8080/",
          "height": 234
        },
        "id": "yqVfuslZGmS3",
        "outputId": "9a0081bd-a210-4aa9-9f69-ea576a2b0e17"
      },
      "execution_count": 17,
      "outputs": [
        {
          "output_type": "stream",
          "name": "stdout",
          "text": [
            "Fidelity 0.9999999999999993\n"
          ]
        },
        {
          "output_type": "execute_result",
          "data": {
            "text/plain": [
              "           ┌───┐┌───┐                                   \n",
              "q8_0: ─────┤ X ├┤ H ├───────────────────────────────────\n",
              "           └─┬─┘├───┤                                   \n",
              "q8_1: ───────┼──┤ X ├───────────────────────────────────\n",
              "             │  └─┬─┘     ┌───┐                         \n",
              "q8_2: ───────┼────┼───────┤ X ├─────────────────────────\n",
              "             │    │       └─┬─┘┌───┐┌───┐    ┌───┐      \n",
              "q8_3: ───────┼────┼─────────┼──┤ X ├┤ H ├────┤ X ├──────\n",
              "      ┌───┐  │    │  ┌───┐  │  └─┬─┘├───┤┌─┐ └─╥─┘      \n",
              "q8_4: ┤ H ├──■────■──┤ H ├──■────■──┤ H ├┤M├───╫────|0>─\n",
              "      └───┘          └───┘          └───┘└╥┘┌──╨──┐     \n",
              "c8: 1/════════════════════════════════════╩═╡ 0x1 ╞═════\n",
              "                                          0 └─────┘     "
            ],
            "text/html": [
              "<pre style=\"word-wrap: normal;white-space: pre;background: #fff0;line-height: 1.1;font-family: &quot;Courier New&quot;,Courier,monospace\">           ┌───┐┌───┐                                   \n",
              "q8_0: ─────┤ X ├┤ H ├───────────────────────────────────\n",
              "           └─┬─┘├───┤                                   \n",
              "q8_1: ───────┼──┤ X ├───────────────────────────────────\n",
              "             │  └─┬─┘     ┌───┐                         \n",
              "q8_2: ───────┼────┼───────┤ X ├─────────────────────────\n",
              "             │    │       └─┬─┘┌───┐┌───┐    ┌───┐      \n",
              "q8_3: ───────┼────┼─────────┼──┤ X ├┤ H ├────┤ X ├──────\n",
              "      ┌───┐  │    │  ┌───┐  │  └─┬─┘├───┤┌─┐ └─╥─┘      \n",
              "q8_4: ┤ H ├──■────■──┤ H ├──■────■──┤ H ├┤M├───╫────|0>─\n",
              "      └───┘          └───┘          └───┘└╥┘┌──╨──┐     \n",
              "c8: 1/════════════════════════════════════╩═╡ 0x1 ╞═════\n",
              "                                          0 └─────┘     </pre>"
            ]
          },
          "metadata": {},
          "execution_count": 17
        }
      ]
    }
  ]
}