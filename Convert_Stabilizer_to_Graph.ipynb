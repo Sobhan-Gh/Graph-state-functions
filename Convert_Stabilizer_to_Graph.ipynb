{
  "nbformat": 4,
  "nbformat_minor": 0,
  "metadata": {
    "colab": {
      "name": "Copy of Convert Stabilizer to Graph.ipynb",
      "provenance": [],
      "collapsed_sections": [],
      "authorship_tag": "ABX9TyMp7byERUZEKjmA/Wh4uWBI",
      "include_colab_link": true
    },
    "kernelspec": {
      "name": "python3",
      "display_name": "Python 3"
    },
    "language_info": {
      "name": "python"
    }
  },
  "cells": [
    {
      "cell_type": "markdown",
      "metadata": {
        "id": "view-in-github",
        "colab_type": "text"
      },
      "source": [
        "<a href=\"https://colab.research.google.com/github/Sobhan-Gh/Graph-state-functions/blob/main/Convert_Stabilizer_to_Graph.ipynb\" target=\"_parent\"><img src=\"https://colab.research.google.com/assets/colab-badge.svg\" alt=\"Open In Colab\"/></a>"
      ]
    },
    {
      "cell_type": "markdown",
      "source": [
        "Row reduction function"
      ],
      "metadata": {
        "id": "OGu0iXGQcDjz"
      }
    },
    {
      "cell_type": "code",
      "execution_count": 1,
      "metadata": {
        "id": "EiV3jToQcC1o"
      },
      "outputs": [],
      "source": [
        "import numpy as np\n",
        "import networkx as nx\n",
        "\n",
        "Xmatrix=np.array([[1,1,1,1],[0,0,0,0],[0,0,0,0],[0,0,0,0]])\n",
        "Zmatrix=np.array([[0,0,0,0],[1,1,0,0],[0,1,1,0],[0,0,1,1]])\n",
        "n,m=np.shape(Xmatrix)\n",
        "pivot=[0,0]"
      ]
    },
    {
      "cell_type": "code",
      "source": [
        "#Elementary row operations (binary)\n",
        "\n",
        "def RowSwap(X,i,j):\n",
        "  X[[i,j]]=X[[j,i]]\n",
        "  return X\n",
        "\n",
        "def Add_Rows(X,i,j):\n",
        "  X[j]=(X[i]+X[j])%2\n",
        "  return X\n",
        "\n",
        "#column swap between X and Z\n",
        "def Hadamard(X,Z,i):\n",
        "  temp1=list(Z[:,i])\n",
        "  temp2=list(X[:,i])\n",
        "  Z[:,i]=temp2\n",
        "  X[:,i]=temp1\n",
        "  return X,Z\n",
        "\n",
        "#returns the row reduced matrix X, the transformed matrix Z and the (rank-1) of the X matrix\n",
        "def RowRed(X,Z,pivot):\n",
        "  n,m=np.shape(X)\n",
        "  rank=0\n",
        "  if pivot[1]==(m-1):\n",
        "    return X,Z,pivot[0]\n",
        "  else:\n",
        "    #list of rows with value 1 under the pivot element\n",
        "    the_ones=[]\n",
        "    for a in range(pivot[0],n):\n",
        "      if X[a,pivot[1]]==1:\n",
        "        the_ones.append(a)\n",
        "    #check if the column below is empty to skip it\n",
        "    if not the_ones:\n",
        "      pivot=[pivot[0],pivot[1]+1]\n",
        "      X,Z,rank=RowRed(X,Z,pivot)\n",
        "    else:\n",
        "      X=RowSwap(X,the_ones[0],pivot[0])\n",
        "      Z=RowSwap(Z,the_ones[0],pivot[0])\n",
        "      the_ones.remove(the_ones[0])\n",
        "      for b in the_ones:\n",
        "        X=Add_Rows(X,pivot[0],b)\n",
        "        Z=Add_Rows(Z,pivot[0],b)\n",
        "      pivot=[pivot[0]+1,pivot[1]+1]\n",
        "      X,Z,rank=RowRed(X,Z,pivot)\n",
        "    return X,Z,rank\n",
        "\n",
        "#the overall function getting X and Z matrices as input and giving out the euqivalent graph. Initialization of X,Z, and pivot is needed. \n",
        "def graph_finder(Xmatrix,Zmatrix,pivot):\n",
        "  j=[]\n",
        "  Xmatrix,Zmatrix,rank=RowRed(Xmatrix,Zmatrix,pivot)\n",
        "  print(\"rank=\",rank+1)\n",
        "  if Xmatrix[rank][np.shape(Xmatrix)[1]-1]==0:\n",
        "    rank=rank-1\n",
        "  i=[*range(rank+1,n)] \n",
        "  print(\"Hadamard on these qubits:\",i)\n",
        "  Xmatrix,Zmatrix=Hadamard(Xmatrix,Zmatrix,i)\n",
        "  assert ((np.linalg.det(Xmatrix))%2 !=0),\"Stabilizer generators are not independent!\" \n",
        "  Xinverse=np.linalg.inv(Xmatrix)\n",
        "  Xmatrix,Zmatrix=np.matmul(Xinverse,Xmatrix)%2,np.matmul(Xinverse,Zmatrix)%2\n",
        "  Zdiag=list(np.diag(Zmatrix))\n",
        "  counter=0\n",
        "  j=[]\n",
        "  for i in Zdiag:\n",
        "    if i==1:\n",
        "      j.append(counter)\n",
        "    counter=counter+1\n",
        "  counter=0\n",
        "  print(\"non-zeroes in diag Z\",j)\n",
        "  for a in j:\n",
        "    Zmatrix[a][a]=0\n",
        "  Zdiag=list(np.diag(Zmatrix))\n",
        "  counter=0\n",
        "  j=[]\n",
        "  for i in Zdiag:\n",
        "    if i==1:\n",
        "      j.append(counter)\n",
        "    counter=counter+1\n",
        "  counter=0\n",
        "  assert (Xmatrix.shape[0] == Xmatrix.shape[1]) and (Xmatrix == np.eye(Xmatrix.shape[0])).all(),\"something is wrong!\"\n",
        "  assert (not j),\"Z diag is not zero yet!\"\n",
        "  print(\"Final X matrix\",\"\\n\",Xmatrix,\"\\n\")\n",
        "  print(\"Final Z matrix\",\"\\n\",Zmatrix,\"\\n\")\n",
        "  G = nx.from_numpy_matrix(Zmatrix)\n",
        "  return nx.draw(G)"
      ],
      "metadata": {
        "id": "yjIXSDbug1DW"
      },
      "execution_count": 22,
      "outputs": []
    },
    {
      "cell_type": "markdown",
      "source": [
        "Testing the function for random input"
      ],
      "metadata": {
        "id": "XPzzwbKVc24X"
      }
    },
    {
      "cell_type": "code",
      "source": [
        "#random test of the graph finder\n",
        "import random\n",
        "#choose range for the number of qubits\n",
        "n=(random.randint(4, 5))\n",
        "pivot=[0,0]\n",
        "#random stabilizer state \n",
        "Zmatrix=np.random.randint(2, size=(n, n))\n",
        "Xmatrix=np.random.randint(2, size=(n, n))\n",
        "print(\"Initial X \\n\",Xmatrix,\"\\n\",\"Initial Z \\n\",Zmatrix)\n",
        "#find graph\n",
        "graph_finder(Xmatrix,Zmatrix,pivot)"
      ],
      "metadata": {
        "id": "eJUeoSHvNZ-n",
        "outputId": "6cb8878c-ea98-4603-8b02-0702441a6a68",
        "colab": {
          "base_uri": "https://localhost:8080/",
          "height": 822
        }
      },
      "execution_count": 23,
      "outputs": [
        {
          "output_type": "stream",
          "name": "stdout",
          "text": [
            "Initial X \n",
            " [[1 0 1 1 0]\n",
            " [0 1 0 1 0]\n",
            " [0 1 1 0 1]\n",
            " [1 1 1 1 0]\n",
            " [0 1 1 1 1]] \n",
            " Initial Z \n",
            " [[1 0 1 0 1]\n",
            " [1 1 0 0 0]\n",
            " [0 1 0 0 1]\n",
            " [1 1 0 1 1]\n",
            " [1 1 1 1 0]]\n",
            "rank= 5\n",
            "Hadamard on these qubits: [4]\n",
            "non-zeroes in diag Z [1, 2, 3]\n",
            "Final X matrix \n",
            " [[1. 0. 0. 0. 0.]\n",
            " [0. 1. 0. 0. 0.]\n",
            " [0. 0. 1. 0. 0.]\n",
            " [0. 0. 0. 1. 0.]\n",
            " [0. 0. 0. 0. 1.]] \n",
            "\n",
            "Final Z matrix \n",
            " [[0. 0. 1. 0. 1.]\n",
            " [0. 0. 1. 1. 0.]\n",
            " [0. 0. 0. 1. 1.]\n",
            " [1. 0. 1. 0. 0.]\n",
            " [0. 0. 0. 0. 0.]] \n",
            "\n"
          ]
        },
        {
          "output_type": "display_data",
          "data": {
            "text/plain": [
              "<Figure size 432x288 with 1 Axes>"
            ],
            "image/png": "[encoded data removed]"
          },
          "metadata": {}
        }
      ]
    },
    {
      "cell_type": "markdown",
      "source": [
        "Algorithm explained"
      ],
      "metadata": {
        "id": "m4c9gUX8o-F9"
      }
    },
    {
      "cell_type": "code",
      "source": [
        "Xmatrix,Zmatrix,rank=RowRed(Xmatrix,Zmatrix,pivot)\n",
        "#adjusting the rank of the matrix if the last pivot is zero\n",
        "if Xmatrix[rank][np.shape(Xmatrix)[1]-1]==0:\n",
        "  rank=rank-1\n",
        "#the list of the rows that are more than rank in X matrix\n",
        "i=[*range(rank+1,n)]\n",
        "#apply Hadamard on qubits k+1 (rank) to m \n",
        "Xmatrix,Zmatrix=Hadamard(Xmatrix,Zmatrix,i)\n",
        "\n",
        "# X is now invertible   "
      ],
      "metadata": {
        "id": "gqRroEvzTT0-"
      },
      "execution_count": null,
      "outputs": []
    },
    {
      "cell_type": "code",
      "source": [
        "print(Xmatrix)\n",
        "print(Zmatrix)\n",
        "Xinverse=np.linalg.inv(Xmatrix)%2\n",
        "Xmatrix,Zmatrix=np.matmul(Xinverse,Xmatrix)%2,np.matmul(Xinverse,Zmatrix)%2\n",
        "#final graph form (in the initial group does not have a Pauli Y elements, if yes more operations are needed)\n",
        "print(Xmatrix)\n",
        "print(Zmatrix)"
      ],
      "metadata": {
        "id": "SATRDWxkX7Jo"
      },
      "execution_count": null,
      "outputs": []
    },
    {
      "cell_type": "code",
      "source": [
        "#Making Z matrix diag-less by applying P H P^(-1) Cliffords to each non-zero qubit\n",
        "\n",
        "Zdiag=list(np.diag(Zmatrix))\n",
        "counter=0\n",
        "j=[]\n",
        "for i in Zdiag:\n",
        "  if i==1:\n",
        "    j.append(counter)\n",
        "  counter=counter+1\n",
        "counter=0\n",
        "print(j)\n",
        "#make these diag element zero in Z matrix\n",
        "for a in j:\n",
        "  Zmatrix[a][a]=0\n",
        "Zdiag=list(np.diag(Zmatrix))\n",
        "counter=0\n",
        "j=[]\n",
        "for i in Zdiag:\n",
        "  if i==1:\n",
        "    j.append(counter)\n",
        "  counter=counter+1\n",
        "counter=0\n",
        "assert (Xmatrix.shape[0] == Xmatrix.shape[1]) and (Xmatrix == np.eye(Xmatrix.shape[0])).all() and (not j)"
      ],
      "metadata": {
        "id": "UmFpaB9LArL7"
      },
      "execution_count": null,
      "outputs": []
    },
    {
      "cell_type": "code",
      "source": [
        "G = nx.from_numpy_matrix(Zmatrix)\n",
        "nx.draw(G)"
      ],
      "metadata": {
        "id": "LpJpvac8Ll4V"
      },
      "execution_count": null,
      "outputs": []
    },
    {
      "cell_type": "code",
      "source": [
        "graph_finder(Xmatrix,Zmatrix,pivot)"
      ],
      "metadata": {
        "colab": {
          "base_uri": "https://localhost:8080/",
          "height": 545
        },
        "id": "0ooA49g6KKk_",
        "outputId": "c4618668-724f-45ee-f9b5-c104a00e651d"
      },
      "execution_count": null,
      "outputs": [
        {
          "output_type": "stream",
          "name": "stdout",
          "text": [
            "non-zeroes in diag Z []\n",
            "Final X matrix \n",
            " [[1. 0. 0. 0.]\n",
            " [0. 1. 0. 0.]\n",
            " [0. 0. 1. 0.]\n",
            " [0. 0. 0. 1.]] \n",
            "\n",
            "Final Z matrix \n",
            " [[0. 1. 1. 1.]\n",
            " [1. 0. 0. 0.]\n",
            " [1. 0. 0. 0.]\n",
            " [1. 0. 0. 0.]] \n",
            "\n"
          ]
        },
        {
          "output_type": "display_data",
          "data": {
            "text/plain": [
              "<Figure size 432x288 with 1 Axes>"
            ],
            "image/png": "[encoded data removed]"
          },
          "metadata": {}
        }
      ]
    }
  ]
}